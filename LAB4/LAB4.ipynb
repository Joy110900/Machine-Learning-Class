{
 "cells": [
  {
   "cell_type": "code",
   "execution_count": 20,
   "metadata": {},
   "outputs": [
    {
     "name": "stdout",
     "output_type": "stream",
     "text": [
      "{'t': 2, 'h': 2, 'e': 3, ' ': 8, 'q': 1, 'u': 2, 'i': 1, 'c': 1, 'k': 1, 'b': 1, 'r': 2, 'o': 4, 'w': 1, 'n': 1, 'f': 1, 'x': 1, 'j': 1, 'm': 1, 'p': 1, 's': 1, 'v': 1, 'l': 1, 'a': 1, 'z': 1, 'y': 1, 'd': 1, 'g': 1}\n"
     ]
    }
   ],
   "source": [
    "#Count each no of characters in a string.\n",
    "s = \"the quick brown fox jumps over the lazy dog\"\n",
    "\n",
    "def countchar(s):\n",
    "    \"\"\"\n",
    "    Returns count of each character in the string\n",
    "    \"\"\"\n",
    "    d = {}\n",
    "    for i in s:\n",
    "        if i not in d.keys():\n",
    "            d[i] = 1\n",
    "        else:\n",
    "            d[i] += 1\n",
    "    return d\n",
    "\n",
    "print(countchar(s))"
   ]
  },
  {
   "cell_type": "code",
   "execution_count": 14,
   "metadata": {},
   "outputs": [
    {
     "name": "stdout",
     "output_type": "stream",
     "text": [
      "Jogging\n"
     ]
    }
   ],
   "source": [
    "#Add 'ing' to a string, if ing already present then add 'ly'\n",
    "s = \"Jogg\"\n",
    "\n",
    "if s[-3:] == 'ing':\n",
    "    s += 'ly'\n",
    "    \n",
    "else:\n",
    "    s+= 'ing'\n",
    "    \n",
    "print(s)"
   ]
  },
  {
   "cell_type": "code",
   "execution_count": 13,
   "metadata": {},
   "outputs": [
    {
     "name": "stdout",
     "output_type": "stream",
     "text": [
      "Largest word in the list has 6 characters.\n"
     ]
    }
   ],
   "source": [
    "#List of words, return the length of the longest word\n",
    "\n",
    "def length(s):\n",
    "    \"\"\"\n",
    "    Returns the length of input string\n",
    "    \"\"\"\n",
    "    l = 0\n",
    "    for i in s:\n",
    "        l += 1\n",
    "    return l\n",
    "\n",
    "l = [\"This\", \"is\", \"a\", \"list\", \"of\", \"random\", \"words\"]\n",
    "ll = 0\n",
    "for i in l:\n",
    "    if length(i) > ll:\n",
    "        ll = length(i)\n",
    "        \n",
    "print(\"Largest word in the list has {} characters.\".format(ll))"
   ]
  },
  {
   "cell_type": "code",
   "execution_count": 1,
   "metadata": {
    "tags": []
   },
   "outputs": [
    {
     "output_type": "stream",
     "name": "stdout",
     "text": "['a1234ejimd', 'random', 'larger', 'Greater']\n"
    }
   ],
   "source": [
    "l = [\"This\", \"is\", \"a\", \"list\", \"of\", \"random\", \"words\", \"larger\", \"Greater\"]\n",
    "nl = []\n",
    "for i in l:\n",
    "    if len(i) > 5:\n",
    "        nl.append(i)\n",
    "        \n",
    "print(nl)"
   ]
  },
  {
   "cell_type": "code",
   "execution_count": 25,
   "metadata": {},
   "outputs": [
    {
     "name": "stdout",
     "output_type": "stream",
     "text": [
      "<class 'str'>\n",
      "<class 'int'>\n",
      "<class 'float'>\n"
     ]
    }
   ],
   "source": [
    "l = [\"string\", 9, 3.14]\n",
    "for i in l:\n",
    "    print(type(i))"
   ]
  }
 ],
 "metadata": {
  "kernelspec": {
   "display_name": "Python 3.7.7 64-bit",
   "language": "python",
   "name": "python37764bitf7e9c2271f664bb9845eed77b4f95b90"
  },
  "language_info": {
   "codemirror_mode": {
    "name": "ipython",
    "version": 3
   },
   "file_extension": ".py",
   "mimetype": "text/x-python",
   "name": "python",
   "nbconvert_exporter": "python",
   "pygments_lexer": "ipython3",
   "version": "3.7.7-final"
  }
 },
 "nbformat": 4,
 "nbformat_minor": 4
}