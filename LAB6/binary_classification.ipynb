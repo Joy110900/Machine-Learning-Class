{
 "metadata": {
  "language_info": {
   "codemirror_mode": {
    "name": "ipython",
    "version": 3
   },
   "file_extension": ".py",
   "mimetype": "text/x-python",
   "name": "python",
   "nbconvert_exporter": "python",
   "pygments_lexer": "ipython3",
   "version": "3.7.7-final"
  },
  "orig_nbformat": 2,
  "kernelspec": {
   "name": "python3",
   "display_name": "Python 3"
  }
 },
 "nbformat": 4,
 "nbformat_minor": 2,
 "cells": [
  {
   "cell_type": "code",
   "execution_count": 52,
   "metadata": {},
   "outputs": [],
   "source": [
    "import pandas as pd\n",
    "from sklearn.model_selection import train_test_split\n",
    "from sklearn.linear_model import LogisticRegression\n",
    "import statsmodels.api as sm"
   ]
  },
  {
   "cell_type": "code",
   "execution_count": 53,
   "metadata": {},
   "outputs": [
    {
     "output_type": "execute_result",
     "data": {
      "text/plain": "   age        job  marital    education    contact month day_of_week  \\\n0   56  housemaid  married     basic.4y  telephone   may         mon   \n1   57   services  married  high.school  telephone   may         mon   \n2   37   services  married  high.school  telephone   may         mon   \n3   40     admin.  married     basic.6y  telephone   may         mon   \n4   56   services  married  high.school  telephone   may         mon   \n\n   duration   y  \n0       261  no  \n1       149  no  \n2       226  no  \n3       151  no  \n4       307  no  ",
      "text/html": "<div>\n<style scoped>\n    .dataframe tbody tr th:only-of-type {\n        vertical-align: middle;\n    }\n\n    .dataframe tbody tr th {\n        vertical-align: top;\n    }\n\n    .dataframe thead th {\n        text-align: right;\n    }\n</style>\n<table border=\"1\" class=\"dataframe\">\n  <thead>\n    <tr style=\"text-align: right;\">\n      <th></th>\n      <th>age</th>\n      <th>job</th>\n      <th>marital</th>\n      <th>education</th>\n      <th>contact</th>\n      <th>month</th>\n      <th>day_of_week</th>\n      <th>duration</th>\n      <th>y</th>\n    </tr>\n  </thead>\n  <tbody>\n    <tr>\n      <th>0</th>\n      <td>56</td>\n      <td>housemaid</td>\n      <td>married</td>\n      <td>basic.4y</td>\n      <td>telephone</td>\n      <td>may</td>\n      <td>mon</td>\n      <td>261</td>\n      <td>no</td>\n    </tr>\n    <tr>\n      <th>1</th>\n      <td>57</td>\n      <td>services</td>\n      <td>married</td>\n      <td>high.school</td>\n      <td>telephone</td>\n      <td>may</td>\n      <td>mon</td>\n      <td>149</td>\n      <td>no</td>\n    </tr>\n    <tr>\n      <th>2</th>\n      <td>37</td>\n      <td>services</td>\n      <td>married</td>\n      <td>high.school</td>\n      <td>telephone</td>\n      <td>may</td>\n      <td>mon</td>\n      <td>226</td>\n      <td>no</td>\n    </tr>\n    <tr>\n      <th>3</th>\n      <td>40</td>\n      <td>admin.</td>\n      <td>married</td>\n      <td>basic.6y</td>\n      <td>telephone</td>\n      <td>may</td>\n      <td>mon</td>\n      <td>151</td>\n      <td>no</td>\n    </tr>\n    <tr>\n      <th>4</th>\n      <td>56</td>\n      <td>services</td>\n      <td>married</td>\n      <td>high.school</td>\n      <td>telephone</td>\n      <td>may</td>\n      <td>mon</td>\n      <td>307</td>\n      <td>no</td>\n    </tr>\n  </tbody>\n</table>\n</div>"
     },
     "metadata": {},
     "execution_count": 53
    }
   ],
   "source": [
    "#reading csv file into a panda dataframe\n",
    "bank_df = pd.read_csv(\"bank.csv\")\n",
    "bank_df.head(5)"
   ]
  },
  {
   "cell_type": "code",
   "execution_count": 54,
   "metadata": {},
   "outputs": [
    {
     "output_type": "execute_result",
     "data": {
      "text/plain": "(41188, 9)"
     },
     "metadata": {},
     "execution_count": 54
    }
   ],
   "source": [
    "#No. of rows and columns\n",
    "bank_df.shape"
   ]
  },
  {
   "cell_type": "code",
   "execution_count": 55,
   "metadata": {},
   "outputs": [],
   "source": [
    "#replace yes and no with 1 and 0\n",
    "bank_df[\"y\"].replace({\"no\":0, \"yes\":1}, inplace=True)"
   ]
  },
  {
   "cell_type": "code",
   "execution_count": 56,
   "metadata": {},
   "outputs": [
    {
     "output_type": "execute_result",
     "data": {
      "text/plain": "   age          job  marital            education    contact month  \\\n0   56    housemaid  married             basic.4y  telephone   may   \n1   57     services  married          high.school  telephone   may   \n2   37     services  married          high.school  telephone   may   \n3   40       admin.  married             basic.6y  telephone   may   \n4   56     services  married          high.school  telephone   may   \n5   45     services  married             basic.9y  telephone   may   \n6   59       admin.  married  professional.course  telephone   may   \n7   41  blue-collar  married              unknown  telephone   may   \n8   24   technician   single  professional.course  telephone   may   \n9   25     services   single          high.school  telephone   may   \n\n  day_of_week  duration  y  \n0         mon       261  0  \n1         mon       149  0  \n2         mon       226  0  \n3         mon       151  0  \n4         mon       307  0  \n5         mon       198  0  \n6         mon       139  0  \n7         mon       217  0  \n8         mon       380  0  \n9         mon        50  0  ",
      "text/html": "<div>\n<style scoped>\n    .dataframe tbody tr th:only-of-type {\n        vertical-align: middle;\n    }\n\n    .dataframe tbody tr th {\n        vertical-align: top;\n    }\n\n    .dataframe thead th {\n        text-align: right;\n    }\n</style>\n<table border=\"1\" class=\"dataframe\">\n  <thead>\n    <tr style=\"text-align: right;\">\n      <th></th>\n      <th>age</th>\n      <th>job</th>\n      <th>marital</th>\n      <th>education</th>\n      <th>contact</th>\n      <th>month</th>\n      <th>day_of_week</th>\n      <th>duration</th>\n      <th>y</th>\n    </tr>\n  </thead>\n  <tbody>\n    <tr>\n      <th>0</th>\n      <td>56</td>\n      <td>housemaid</td>\n      <td>married</td>\n      <td>basic.4y</td>\n      <td>telephone</td>\n      <td>may</td>\n      <td>mon</td>\n      <td>261</td>\n      <td>0</td>\n    </tr>\n    <tr>\n      <th>1</th>\n      <td>57</td>\n      <td>services</td>\n      <td>married</td>\n      <td>high.school</td>\n      <td>telephone</td>\n      <td>may</td>\n      <td>mon</td>\n      <td>149</td>\n      <td>0</td>\n    </tr>\n    <tr>\n      <th>2</th>\n      <td>37</td>\n      <td>services</td>\n      <td>married</td>\n      <td>high.school</td>\n      <td>telephone</td>\n      <td>may</td>\n      <td>mon</td>\n      <td>226</td>\n      <td>0</td>\n    </tr>\n    <tr>\n      <th>3</th>\n      <td>40</td>\n      <td>admin.</td>\n      <td>married</td>\n      <td>basic.6y</td>\n      <td>telephone</td>\n      <td>may</td>\n      <td>mon</td>\n      <td>151</td>\n      <td>0</td>\n    </tr>\n    <tr>\n      <th>4</th>\n      <td>56</td>\n      <td>services</td>\n      <td>married</td>\n      <td>high.school</td>\n      <td>telephone</td>\n      <td>may</td>\n      <td>mon</td>\n      <td>307</td>\n      <td>0</td>\n    </tr>\n    <tr>\n      <th>5</th>\n      <td>45</td>\n      <td>services</td>\n      <td>married</td>\n      <td>basic.9y</td>\n      <td>telephone</td>\n      <td>may</td>\n      <td>mon</td>\n      <td>198</td>\n      <td>0</td>\n    </tr>\n    <tr>\n      <th>6</th>\n      <td>59</td>\n      <td>admin.</td>\n      <td>married</td>\n      <td>professional.course</td>\n      <td>telephone</td>\n      <td>may</td>\n      <td>mon</td>\n      <td>139</td>\n      <td>0</td>\n    </tr>\n    <tr>\n      <th>7</th>\n      <td>41</td>\n      <td>blue-collar</td>\n      <td>married</td>\n      <td>unknown</td>\n      <td>telephone</td>\n      <td>may</td>\n      <td>mon</td>\n      <td>217</td>\n      <td>0</td>\n    </tr>\n    <tr>\n      <th>8</th>\n      <td>24</td>\n      <td>technician</td>\n      <td>single</td>\n      <td>professional.course</td>\n      <td>telephone</td>\n      <td>may</td>\n      <td>mon</td>\n      <td>380</td>\n      <td>0</td>\n    </tr>\n    <tr>\n      <th>9</th>\n      <td>25</td>\n      <td>services</td>\n      <td>single</td>\n      <td>high.school</td>\n      <td>telephone</td>\n      <td>may</td>\n      <td>mon</td>\n      <td>50</td>\n      <td>0</td>\n    </tr>\n  </tbody>\n</table>\n</div>"
     },
     "metadata": {},
     "execution_count": 56
    }
   ],
   "source": [
    "bank_df.head(10)"
   ]
  },
  {
   "cell_type": "code",
   "execution_count": 57,
   "metadata": {},
   "outputs": [],
   "source": [
    "#renaming column name\n",
    "bank_df.rename(columns={\"y\": \"purchase\"}, inplace=True)"
   ]
  },
  {
   "cell_type": "code",
   "execution_count": 58,
   "metadata": {},
   "outputs": [
    {
     "output_type": "execute_result",
     "data": {
      "text/plain": "   age        job  marital    education    contact month day_of_week  \\\n0   56  housemaid  married     basic.4y  telephone   may         mon   \n1   57   services  married  high.school  telephone   may         mon   \n2   37   services  married  high.school  telephone   may         mon   \n3   40     admin.  married     basic.6y  telephone   may         mon   \n4   56   services  married  high.school  telephone   may         mon   \n\n   duration  purchase  \n0       261         0  \n1       149         0  \n2       226         0  \n3       151         0  \n4       307         0  ",
      "text/html": "<div>\n<style scoped>\n    .dataframe tbody tr th:only-of-type {\n        vertical-align: middle;\n    }\n\n    .dataframe tbody tr th {\n        vertical-align: top;\n    }\n\n    .dataframe thead th {\n        text-align: right;\n    }\n</style>\n<table border=\"1\" class=\"dataframe\">\n  <thead>\n    <tr style=\"text-align: right;\">\n      <th></th>\n      <th>age</th>\n      <th>job</th>\n      <th>marital</th>\n      <th>education</th>\n      <th>contact</th>\n      <th>month</th>\n      <th>day_of_week</th>\n      <th>duration</th>\n      <th>purchase</th>\n    </tr>\n  </thead>\n  <tbody>\n    <tr>\n      <th>0</th>\n      <td>56</td>\n      <td>housemaid</td>\n      <td>married</td>\n      <td>basic.4y</td>\n      <td>telephone</td>\n      <td>may</td>\n      <td>mon</td>\n      <td>261</td>\n      <td>0</td>\n    </tr>\n    <tr>\n      <th>1</th>\n      <td>57</td>\n      <td>services</td>\n      <td>married</td>\n      <td>high.school</td>\n      <td>telephone</td>\n      <td>may</td>\n      <td>mon</td>\n      <td>149</td>\n      <td>0</td>\n    </tr>\n    <tr>\n      <th>2</th>\n      <td>37</td>\n      <td>services</td>\n      <td>married</td>\n      <td>high.school</td>\n      <td>telephone</td>\n      <td>may</td>\n      <td>mon</td>\n      <td>226</td>\n      <td>0</td>\n    </tr>\n    <tr>\n      <th>3</th>\n      <td>40</td>\n      <td>admin.</td>\n      <td>married</td>\n      <td>basic.6y</td>\n      <td>telephone</td>\n      <td>may</td>\n      <td>mon</td>\n      <td>151</td>\n      <td>0</td>\n    </tr>\n    <tr>\n      <th>4</th>\n      <td>56</td>\n      <td>services</td>\n      <td>married</td>\n      <td>high.school</td>\n      <td>telephone</td>\n      <td>may</td>\n      <td>mon</td>\n      <td>307</td>\n      <td>0</td>\n    </tr>\n  </tbody>\n</table>\n</div>"
     },
     "metadata": {},
     "execution_count": 58
    }
   ],
   "source": [
    "bank_df.head()"
   ]
  },
  {
   "cell_type": "markdown",
   "metadata": {},
   "source": [
    "Factor Variables"
   ]
  },
  {
   "cell_type": "code",
   "execution_count": 59,
   "metadata": {
    "tags": []
   },
   "outputs": [
    {
     "output_type": "stream",
     "name": "stdout",
     "text": "['job' 'marital' 'education' 'contact' 'month' 'day_of_week']\n"
    }
   ],
   "source": [
    "factor_x = bank_df.select_dtypes(exclude=[\"int64\", \"float64\", \"category\"]).columns.values\n",
    "print(factor_x)"
   ]
  },
  {
   "cell_type": "code",
   "execution_count": 60,
   "metadata": {
    "tags": []
   },
   "outputs": [
    {
     "output_type": "stream",
     "name": "stdout",
     "text": "Factor Variable = job\n['housemaid' 'services' 'admin.' 'blue-collar' 'technician' 'retired'\n 'management' 'unemployed' 'self-employed' 'unknown' 'entrepreneur'\n 'student']\nFactor Variable = marital\n['married' 'single' 'divorced' 'unknown']\nFactor Variable = education\n['basic.4y' 'high.school' 'basic.6y' 'basic.9y' 'professional.course'\n 'unknown' 'university.degree' 'illiterate']\nFactor Variable = contact\n['telephone' 'cellular']\nFactor Variable = month\n['may' 'jun' 'jul' 'aug' 'oct' 'nov' 'dec' 'mar' 'apr' 'sep']\nFactor Variable = day_of_week\n['mon' 'tue' 'wed' 'thu' 'fri']\n"
    }
   ],
   "source": [
    "#Unique values of all factor variables\n",
    "for i in factor_x:\n",
    "    print(\"Factor Variable = \" + i)\n",
    "    print(bank_df[i].unique())"
   ]
  },
  {
   "cell_type": "markdown",
   "metadata": {},
   "source": [
    "Cleaning Dataset and reducing unique variables."
   ]
  },
  {
   "cell_type": "code",
   "execution_count": 61,
   "metadata": {},
   "outputs": [],
   "source": [
    "bank_df.replace([\"basic.4y\", \"basic.6y\", \"basic.9y\", \"unknown\"], \"school\", inplace=True)"
   ]
  },
  {
   "cell_type": "code",
   "execution_count": 62,
   "metadata": {},
   "outputs": [],
   "source": [
    "bank_df.replace(\"professional.course\", \"certification\", inplace=True)"
   ]
  },
  {
   "cell_type": "code",
   "execution_count": 63,
   "metadata": {},
   "outputs": [],
   "source": [
    "bank_df.replace(\"university.degree\", \"degree\", inplace=True)"
   ]
  },
  {
   "cell_type": "code",
   "execution_count": 64,
   "metadata": {},
   "outputs": [
    {
     "output_type": "execute_result",
     "data": {
      "text/plain": "array(['school', 'high.school', 'certification', 'degree', 'illiterate'],\n      dtype=object)"
     },
     "metadata": {},
     "execution_count": 64
    }
   ],
   "source": [
    "bank_df.education.unique()"
   ]
  },
  {
   "cell_type": "markdown",
   "metadata": {},
   "source": [
    "Replace retired, student and unknown to unemployed and rest to employed."
   ]
  },
  {
   "cell_type": "code",
   "execution_count": 65,
   "metadata": {},
   "outputs": [],
   "source": [
    "for i in bank_df.job.unique():\n",
    "    if i in [\"retired\", \"student\", \"unknown\", \"unemployed\"]:\n",
    "        bank_df.job[bank_df.job == i] = \"unemployed\"\n",
    "\n",
    "    else:\n",
    "        bank_df.job[bank_df.job == i] = \"employed\""
   ]
  },
  {
   "cell_type": "code",
   "execution_count": 66,
   "metadata": {},
   "outputs": [
    {
     "output_type": "execute_result",
     "data": {
      "text/plain": "array(['employed', 'unemployed'], dtype=object)"
     },
     "metadata": {},
     "execution_count": 66
    }
   ],
   "source": [
    "bank_df.job.unique()"
   ]
  },
  {
   "cell_type": "markdown",
   "metadata": {},
   "source": [
    "convert all X categorical variables"
   ]
  },
  {
   "cell_type": "code",
   "execution_count": 67,
   "metadata": {},
   "outputs": [
    {
     "output_type": "execute_result",
     "data": {
      "text/plain": "age               int64\njob            category\nmarital        category\neducation      category\ncontact        category\nmonth          category\nday_of_week    category\nduration          int64\npurchase          int64\ndtype: object"
     },
     "metadata": {},
     "execution_count": 67
    }
   ],
   "source": [
    "for i in factor_x:\n",
    "    bank_df[i] = bank_df[i].astype(\"category\", copy=False)\n",
    "\n",
    "bank_df.dtypes"
   ]
  },
  {
   "cell_type": "code",
   "execution_count": 68,
   "metadata": {
    "tags": []
   },
   "outputs": [
    {
     "output_type": "stream",
     "name": "stdout",
     "text": "Index(['age', 'job', 'marital', 'education', 'contact', 'month', 'day_of_week',\n       'duration', 'purchase', 'job_employed', 'job_unemployed',\n       'marital_divorced', 'marital_married', 'marital_school',\n       'marital_single', 'education_certification', 'education_degree',\n       'education_high.school', 'education_illiterate', 'education_school',\n       'contact_cellular', 'contact_telephone', 'month_apr', 'month_aug',\n       'month_dec', 'month_jul', 'month_jun', 'month_mar', 'month_may',\n       'month_nov', 'month_oct', 'month_sep', 'day_of_week_fri',\n       'day_of_week_mon', 'day_of_week_thu', 'day_of_week_tue',\n       'day_of_week_wed'],\n      dtype='object')\n"
    },
    {
     "output_type": "execute_result",
     "data": {
      "text/plain": "   age       job  marital    education    contact month day_of_week  duration  \\\n0   56  employed  married       school  telephone   may         mon       261   \n1   57  employed  married  high.school  telephone   may         mon       149   \n2   37  employed  married  high.school  telephone   may         mon       226   \n3   40  employed  married       school  telephone   may         mon       151   \n4   56  employed  married  high.school  telephone   may         mon       307   \n\n   purchase  job_employed  ...  month_mar  month_may  month_nov  month_oct  \\\n0         0             1  ...          0          1          0          0   \n1         0             1  ...          0          1          0          0   \n2         0             1  ...          0          1          0          0   \n3         0             1  ...          0          1          0          0   \n4         0             1  ...          0          1          0          0   \n\n   month_sep  day_of_week_fri  day_of_week_mon  day_of_week_thu  \\\n0          0                0                1                0   \n1          0                0                1                0   \n2          0                0                1                0   \n3          0                0                1                0   \n4          0                0                1                0   \n\n   day_of_week_tue  day_of_week_wed  \n0                0                0  \n1                0                0  \n2                0                0  \n3                0                0  \n4                0                0  \n\n[5 rows x 37 columns]",
      "text/html": "<div>\n<style scoped>\n    .dataframe tbody tr th:only-of-type {\n        vertical-align: middle;\n    }\n\n    .dataframe tbody tr th {\n        vertical-align: top;\n    }\n\n    .dataframe thead th {\n        text-align: right;\n    }\n</style>\n<table border=\"1\" class=\"dataframe\">\n  <thead>\n    <tr style=\"text-align: right;\">\n      <th></th>\n      <th>age</th>\n      <th>job</th>\n      <th>marital</th>\n      <th>education</th>\n      <th>contact</th>\n      <th>month</th>\n      <th>day_of_week</th>\n      <th>duration</th>\n      <th>purchase</th>\n      <th>job_employed</th>\n      <th>...</th>\n      <th>month_mar</th>\n      <th>month_may</th>\n      <th>month_nov</th>\n      <th>month_oct</th>\n      <th>month_sep</th>\n      <th>day_of_week_fri</th>\n      <th>day_of_week_mon</th>\n      <th>day_of_week_thu</th>\n      <th>day_of_week_tue</th>\n      <th>day_of_week_wed</th>\n    </tr>\n  </thead>\n  <tbody>\n    <tr>\n      <th>0</th>\n      <td>56</td>\n      <td>employed</td>\n      <td>married</td>\n      <td>school</td>\n      <td>telephone</td>\n      <td>may</td>\n      <td>mon</td>\n      <td>261</td>\n      <td>0</td>\n      <td>1</td>\n      <td>...</td>\n      <td>0</td>\n      <td>1</td>\n      <td>0</td>\n      <td>0</td>\n      <td>0</td>\n      <td>0</td>\n      <td>1</td>\n      <td>0</td>\n      <td>0</td>\n      <td>0</td>\n    </tr>\n    <tr>\n      <th>1</th>\n      <td>57</td>\n      <td>employed</td>\n      <td>married</td>\n      <td>high.school</td>\n      <td>telephone</td>\n      <td>may</td>\n      <td>mon</td>\n      <td>149</td>\n      <td>0</td>\n      <td>1</td>\n      <td>...</td>\n      <td>0</td>\n      <td>1</td>\n      <td>0</td>\n      <td>0</td>\n      <td>0</td>\n      <td>0</td>\n      <td>1</td>\n      <td>0</td>\n      <td>0</td>\n      <td>0</td>\n    </tr>\n    <tr>\n      <th>2</th>\n      <td>37</td>\n      <td>employed</td>\n      <td>married</td>\n      <td>high.school</td>\n      <td>telephone</td>\n      <td>may</td>\n      <td>mon</td>\n      <td>226</td>\n      <td>0</td>\n      <td>1</td>\n      <td>...</td>\n      <td>0</td>\n      <td>1</td>\n      <td>0</td>\n      <td>0</td>\n      <td>0</td>\n      <td>0</td>\n      <td>1</td>\n      <td>0</td>\n      <td>0</td>\n      <td>0</td>\n    </tr>\n    <tr>\n      <th>3</th>\n      <td>40</td>\n      <td>employed</td>\n      <td>married</td>\n      <td>school</td>\n      <td>telephone</td>\n      <td>may</td>\n      <td>mon</td>\n      <td>151</td>\n      <td>0</td>\n      <td>1</td>\n      <td>...</td>\n      <td>0</td>\n      <td>1</td>\n      <td>0</td>\n      <td>0</td>\n      <td>0</td>\n      <td>0</td>\n      <td>1</td>\n      <td>0</td>\n      <td>0</td>\n      <td>0</td>\n    </tr>\n    <tr>\n      <th>4</th>\n      <td>56</td>\n      <td>employed</td>\n      <td>married</td>\n      <td>high.school</td>\n      <td>telephone</td>\n      <td>may</td>\n      <td>mon</td>\n      <td>307</td>\n      <td>0</td>\n      <td>1</td>\n      <td>...</td>\n      <td>0</td>\n      <td>1</td>\n      <td>0</td>\n      <td>0</td>\n      <td>0</td>\n      <td>0</td>\n      <td>1</td>\n      <td>0</td>\n      <td>0</td>\n      <td>0</td>\n    </tr>\n  </tbody>\n</table>\n<p>5 rows × 37 columns</p>\n</div>"
     },
     "metadata": {},
     "execution_count": 68
    }
   ],
   "source": [
    "for var in factor_x:  \n",
    "    cat_list='var'+'_'+var  \n",
    "    cat_list = pd.get_dummies(bank_df[var], prefix=var)  \n",
    "    data1=bank_df.join(cat_list)  \n",
    "    bank_df = data1  \n",
    "new_col_set = bank_df.columns  \n",
    "print(new_col_set)  \n",
    "# data with new columns  \n",
    "bank_df.head()"
   ]
  },
  {
   "cell_type": "code",
   "execution_count": 69,
   "metadata": {},
   "outputs": [
    {
     "output_type": "execute_result",
     "data": {
      "text/plain": "   purchase  month_oct  marital_school  month_mar  month_jun  \\\n0         0          0               0          0          0   \n1         0          0               0          0          0   \n2         0          0               0          0          0   \n3         0          0               0          0          0   \n4         0          0               0          0          0   \n\n   education_certification  month_may  day_of_week_wed  day_of_week_fri  \\\n0                        0          1                0                0   \n1                        0          1                0                0   \n2                        0          1                0                0   \n3                        0          1                0                0   \n4                        0          1                0                0   \n\n   contact_telephone  ...  month_sep  education_illiterate  education_school  \\\n0                  1  ...          0                     0                 1   \n1                  1  ...          0                     0                 0   \n2                  1  ...          0                     0                 0   \n3                  1  ...          0                     0                 1   \n4                  1  ...          0                     0                 0   \n\n   job_employed  marital_married  education_high.school  day_of_week_tue  \\\n0             1                1                      0                0   \n1             1                1                      1                0   \n2             1                1                      1                0   \n3             1                1                      0                0   \n4             1                1                      1                0   \n\n   month_aug  month_nov  marital_single  \n0          0          0               0  \n1          0          0               0  \n2          0          0               0  \n3          0          0               0  \n4          0          0               0  \n\n[5 rows x 31 columns]",
      "text/html": "<div>\n<style scoped>\n    .dataframe tbody tr th:only-of-type {\n        vertical-align: middle;\n    }\n\n    .dataframe tbody tr th {\n        vertical-align: top;\n    }\n\n    .dataframe thead th {\n        text-align: right;\n    }\n</style>\n<table border=\"1\" class=\"dataframe\">\n  <thead>\n    <tr style=\"text-align: right;\">\n      <th></th>\n      <th>purchase</th>\n      <th>month_oct</th>\n      <th>marital_school</th>\n      <th>month_mar</th>\n      <th>month_jun</th>\n      <th>education_certification</th>\n      <th>month_may</th>\n      <th>day_of_week_wed</th>\n      <th>day_of_week_fri</th>\n      <th>contact_telephone</th>\n      <th>...</th>\n      <th>month_sep</th>\n      <th>education_illiterate</th>\n      <th>education_school</th>\n      <th>job_employed</th>\n      <th>marital_married</th>\n      <th>education_high.school</th>\n      <th>day_of_week_tue</th>\n      <th>month_aug</th>\n      <th>month_nov</th>\n      <th>marital_single</th>\n    </tr>\n  </thead>\n  <tbody>\n    <tr>\n      <th>0</th>\n      <td>0</td>\n      <td>0</td>\n      <td>0</td>\n      <td>0</td>\n      <td>0</td>\n      <td>0</td>\n      <td>1</td>\n      <td>0</td>\n      <td>0</td>\n      <td>1</td>\n      <td>...</td>\n      <td>0</td>\n      <td>0</td>\n      <td>1</td>\n      <td>1</td>\n      <td>1</td>\n      <td>0</td>\n      <td>0</td>\n      <td>0</td>\n      <td>0</td>\n      <td>0</td>\n    </tr>\n    <tr>\n      <th>1</th>\n      <td>0</td>\n      <td>0</td>\n      <td>0</td>\n      <td>0</td>\n      <td>0</td>\n      <td>0</td>\n      <td>1</td>\n      <td>0</td>\n      <td>0</td>\n      <td>1</td>\n      <td>...</td>\n      <td>0</td>\n      <td>0</td>\n      <td>0</td>\n      <td>1</td>\n      <td>1</td>\n      <td>1</td>\n      <td>0</td>\n      <td>0</td>\n      <td>0</td>\n      <td>0</td>\n    </tr>\n    <tr>\n      <th>2</th>\n      <td>0</td>\n      <td>0</td>\n      <td>0</td>\n      <td>0</td>\n      <td>0</td>\n      <td>0</td>\n      <td>1</td>\n      <td>0</td>\n      <td>0</td>\n      <td>1</td>\n      <td>...</td>\n      <td>0</td>\n      <td>0</td>\n      <td>0</td>\n      <td>1</td>\n      <td>1</td>\n      <td>1</td>\n      <td>0</td>\n      <td>0</td>\n      <td>0</td>\n      <td>0</td>\n    </tr>\n    <tr>\n      <th>3</th>\n      <td>0</td>\n      <td>0</td>\n      <td>0</td>\n      <td>0</td>\n      <td>0</td>\n      <td>0</td>\n      <td>1</td>\n      <td>0</td>\n      <td>0</td>\n      <td>1</td>\n      <td>...</td>\n      <td>0</td>\n      <td>0</td>\n      <td>1</td>\n      <td>1</td>\n      <td>1</td>\n      <td>0</td>\n      <td>0</td>\n      <td>0</td>\n      <td>0</td>\n      <td>0</td>\n    </tr>\n    <tr>\n      <th>4</th>\n      <td>0</td>\n      <td>0</td>\n      <td>0</td>\n      <td>0</td>\n      <td>0</td>\n      <td>0</td>\n      <td>1</td>\n      <td>0</td>\n      <td>0</td>\n      <td>1</td>\n      <td>...</td>\n      <td>0</td>\n      <td>0</td>\n      <td>0</td>\n      <td>1</td>\n      <td>1</td>\n      <td>1</td>\n      <td>0</td>\n      <td>0</td>\n      <td>0</td>\n      <td>0</td>\n    </tr>\n  </tbody>\n</table>\n<p>5 rows × 31 columns</p>\n</div>"
     },
     "metadata": {},
     "execution_count": 69
    }
   ],
   "source": [
    "# get the difference of new and old columns  \n",
    "to_keep = list(set(new_col_set).difference(set(factor_x)))  \n",
    "to_keep  \n",
    "# create the final dataset with the final columns set  \n",
    "# ---------------------------------------------------  \n",
    "bank_final = bank_df[to_keep]  \n",
    "bank_final.head(4)  \n",
    "# reordering the columns  \n",
    "# ---------------------------------------------------  \n",
    "bank_final = pd.concat([bank_final['purchase'], bank_final.drop('purchase', axis=1)], axis=1)  \n",
    "bank_final.head()"
   ]
  }
 ]
}