{
 "cells": [
  {
   "cell_type": "markdown",
   "metadata": {},
   "source": [
    "## If-Else Statements"
   ]
  },
  {
   "cell_type": "markdown",
   "metadata": {},
   "source": [
    "If age > 18, print \"Valid Age\" else print \"Under Age\"."
   ]
  },
  {
   "cell_type": "code",
   "execution_count": 2,
   "metadata": {},
   "outputs": [
    {
     "name": "stdout",
     "output_type": "stream",
     "text": [
      "Enter your age: 55\n",
      "Valid Age\n"
     ]
    }
   ],
   "source": [
    "age = int(input(\"Enter your age: \"))\n",
    "if age > 18:\n",
    "    print(\"Valid Age\")\n",
    "else:\n",
    "    print(\"Under Age\")"
   ]
  },
  {
   "cell_type": "markdown",
   "metadata": {},
   "source": [
    "If age > 18 and minimum height is > 150 print \"Qualified\" else print \"Does not qualify\"."
   ]
  },
  {
   "cell_type": "code",
   "execution_count": 5,
   "metadata": {},
   "outputs": [
    {
     "name": "stdout",
     "output_type": "stream",
     "text": [
      "Enter your age: 19\n",
      "Enter your height: 151\n",
      "Qualified.\n"
     ]
    }
   ],
   "source": [
    "age = int(input(\"Enter your age: \"))\n",
    "ht = int(input(\"Enter your height: \"))\n",
    "if age > 18 and ht > 150:\n",
    "    print(\"Qualified.\")\n",
    "else:\n",
    "    print(\"Does not qualify.\")"
   ]
  },
  {
   "cell_type": "markdown",
   "metadata": {},
   "source": [
    "print \"starts with a\" if it does, print \"starts with e\" if it does, print \"starts with i\" if it does, print \"starts with o\" if it does, \"starts with u\" if it does, else print \"does not start with vowel\"  "
   ]
  },
  {
   "cell_type": "code",
   "execution_count": 11,
   "metadata": {},
   "outputs": [
    {
     "name": "stdout",
     "output_type": "stream",
     "text": [
      "Enter a string: odd\n",
      "Starts with o.\n"
     ]
    }
   ],
   "source": [
    "s = input(\"Enter a string: \")\n",
    "if s[0] == 'a':\n",
    "    print(\"Starts with a.\")\n",
    "elif s[0] == 'e':\n",
    "    print(\"Starts with e.\")\n",
    "elif s[0] == 'i':\n",
    "    print(\"Starts with i.\")\n",
    "elif s[0] == 'o':\n",
    "    print(\"Starts with o.\")\n",
    "elif s[0] == 'u':\n",
    "    print(\"Starts with u.\")\n",
    "else:\n",
    "    print(\"Does not start with vowel.\")"
   ]
  },
  {
   "cell_type": "markdown",
   "metadata": {},
   "source": [
    "## User defined functions"
   ]
  },
  {
   "cell_type": "markdown",
   "metadata": {},
   "source": [
    "Write a function to find radius of a circle"
   ]
  },
  {
   "cell_type": "code",
   "execution_count": 23,
   "metadata": {},
   "outputs": [
    {
     "name": "stdout",
     "output_type": "stream",
     "text": [
      "50.26548245743669\n"
     ]
    }
   ],
   "source": [
    "from math import pi\n",
    "\n",
    "def areacirc(radius):\n",
    "    return pi * (radius**2)\n",
    "\n",
    "print(areacirc(4))"
   ]
  },
  {
   "cell_type": "markdown",
   "metadata": {},
   "source": [
    "Write a function to find difference between 2 numbers"
   ]
  },
  {
   "cell_type": "code",
   "execution_count": 25,
   "metadata": {},
   "outputs": [
    {
     "name": "stdout",
     "output_type": "stream",
     "text": [
      "2992\n"
     ]
    }
   ],
   "source": [
    "def diff2vars(a, b):\n",
    "    return a-b\n",
    "\n",
    "print(diff2vars(3534,542))"
   ]
  },
  {
   "cell_type": "markdown",
   "metadata": {},
   "source": [
    "Multiply all elements in a list by 2"
   ]
  },
  {
   "cell_type": "code",
   "execution_count": 34,
   "metadata": {},
   "outputs": [
    {
     "name": "stdout",
     "output_type": "stream",
     "text": [
      "[48, 46, 8, 864, 6, 486, 46, 4, 6, 1092]\n"
     ]
    }
   ],
   "source": [
    "l1 = [24,23,4,432,3,243,23,2,3,546]\n",
    "def listmul(l):\n",
    "    for i in range(len(l)):\n",
    "        l[i] = 2*l[i]\n",
    "        \n",
    "    return l\n",
    "        \n",
    "  \n",
    "print(listmul(l1))"
   ]
  },
  {
   "cell_type": "markdown",
   "metadata": {},
   "source": [
    "## Misc."
   ]
  },
  {
   "cell_type": "markdown",
   "metadata": {},
   "source": [
    "Lenght of a string without spaces"
   ]
  },
  {
   "cell_type": "code",
   "execution_count": 40,
   "metadata": {},
   "outputs": [
    {
     "name": "stdout",
     "output_type": "stream",
     "text": [
      "9\n"
     ]
    }
   ],
   "source": [
    "s2 = \"1 2 3 456 7 8 9\"\n",
    "\n",
    "length = len(s2) - s2.count(' ')\n",
    "\n",
    "print(length)"
   ]
  },
  {
   "cell_type": "markdown",
   "metadata": {},
   "source": [
    "Length of a string without using len() function"
   ]
  },
  {
   "cell_type": "code",
   "execution_count": 43,
   "metadata": {},
   "outputs": [
    {
     "name": "stdout",
     "output_type": "stream",
     "text": [
      "5\n"
     ]
    }
   ],
   "source": [
    "s2 = \"Hello\"\n",
    "l = 0\n",
    "for i in s2:\n",
    "    l = l + 1\n",
    "\n",
    "print(l)"
   ]
  }
 ],
 "metadata": {
  "kernelspec": {
   "display_name": "Python 3",
   "language": "python",
   "name": "python3"
  },
  "language_info": {
   "codemirror_mode": {
    "name": "ipython",
    "version": 3
   },
   "file_extension": ".py",
   "mimetype": "text/x-python",
   "name": "python",
   "nbconvert_exporter": "python",
   "pygments_lexer": "ipython3",
   "version": "3.7.7"
  }
 },
 "nbformat": 4,
 "nbformat_minor": 4
}
