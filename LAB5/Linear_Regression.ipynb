{
 "cells": [
  {
   "cell_type": "code",
   "execution_count": 1,
   "metadata": {},
   "outputs": [],
   "source": [
    "import pandas as pd"
   ]
  },
  {
   "cell_type": "code",
   "execution_count": 2,
   "metadata": {},
   "outputs": [],
   "source": [
    "import sklearn.model_selection"
   ]
  },
  {
   "cell_type": "code",
   "execution_count": 3,
   "metadata": {},
   "outputs": [],
   "source": [
    "import statsmodels.api as sm"
   ]
  },
  {
   "cell_type": "code",
   "execution_count": 56,
   "metadata": {},
   "outputs": [],
   "source": [
    "import numpy as np"
   ]
  },
  {
   "cell_type": "code",
   "execution_count": 64,
   "metadata": {},
   "outputs": [],
   "source": [
    "df = pd.read_csv(\"concrete.csv\")"
   ]
  },
  {
   "cell_type": "code",
   "execution_count": 65,
   "metadata": {},
   "outputs": [],
   "source": [
    "train, test = sklearn.model_selection.train_test_split(df, test_size=0.3)"
   ]
  },
  {
   "cell_type": "code",
   "execution_count": 66,
   "metadata": {},
   "outputs": [],
   "source": [
    "x_train = train.iloc[:, :-1]\n",
    "x_test = test.iloc[:, :-1]"
   ]
  },
  {
   "cell_type": "code",
   "execution_count": 67,
   "metadata": {},
   "outputs": [],
   "source": [
    "y_train = train.iloc[:, -1:]\n",
    "y_test = test.iloc[:, -1:]"
   ]
  },
  {
   "cell_type": "code",
   "execution_count": 68,
   "metadata": {},
   "outputs": [
    {
     "name": "stdout",
     "output_type": "stream",
     "text": [
      "(721, 8)\n",
      "(309, 8)\n",
      "(721, 1)\n",
      "(309, 1)\n"
     ]
    }
   ],
   "source": [
    "print(x_train.shape)\n",
    "print(x_test.shape)\n",
    "print(y_train.shape)\n",
    "print(y_test.shape)"
   ]
  },
  {
   "cell_type": "code",
   "execution_count": 69,
   "metadata": {
    "scrolled": true
   },
   "outputs": [
    {
     "name": "stdout",
     "output_type": "stream",
     "text": [
      "X Train- \n",
      "      cementcomp   slag  flyash  water  superplastisizer  coraseaggr  finraggr  \\\n",
      "397       145.0  116.0   119.0  184.0               5.7       833.0     880.0   \n",
      "420       165.0  128.5   132.1  175.1               8.1      1005.8     746.6   \n",
      "314       251.8    0.0    99.9  146.1              12.4      1006.0     899.8   \n",
      "383       451.0    0.0     0.0  165.0              11.3      1030.0     745.0   \n",
      "291       182.0   45.2   122.0  170.2               8.2      1059.4     780.7   \n",
      "..          ...    ...     ...    ...               ...         ...       ...   \n",
      "274       251.4    0.0   118.3  188.5               5.8      1028.4     757.7   \n",
      "256       212.5    0.0   100.4  159.3               8.7      1007.8     903.6   \n",
      "516       202.0   11.0   141.0  206.0               1.7       942.0     801.0   \n",
      "596       170.3  155.5     0.0  185.7               0.0      1026.6     724.3   \n",
      "349       213.5    0.0   174.2  154.6              11.7      1052.3     775.5   \n",
      "\n",
      "     age  \n",
      "397   28  \n",
      "420   14  \n",
      "314    3  \n",
      "383   28  \n",
      "291   28  \n",
      "..   ...  \n",
      "274    3  \n",
      "256   28  \n",
      "516    3  \n",
      "596    7  \n",
      "349    3  \n",
      "\n",
      "[721 rows x 8 columns]\n",
      "X Test- \n",
      "      cementcomp   slag  flyash  water  superplastisizer  coraseaggr  finraggr  \\\n",
      "216       190.3    0.0   125.2  161.9               9.9      1088.1     802.6   \n",
      "263       212.6    0.0   100.4  159.4              10.4      1003.8     903.8   \n",
      "339       297.2    0.0   117.5  174.8               9.5      1022.8     753.5   \n",
      "632       325.0    0.0     0.0  184.0               0.0      1063.0     783.0   \n",
      "999       150.9    0.0   183.9  166.6              11.6       991.2     772.2   \n",
      "..          ...    ...     ...    ...               ...         ...       ...   \n",
      "718       122.6  183.9     0.0  203.5               0.0       958.2     800.1   \n",
      "733       349.0    0.0     0.0  192.0               0.0      1056.0     809.0   \n",
      "582       170.3  155.5     0.0  185.7               0.0      1026.6     724.3   \n",
      "31        266.0  114.0     0.0  228.0               0.0       932.0     670.0   \n",
      "454       250.0    0.0    95.7  191.8               5.3       948.9     857.2   \n",
      "\n",
      "     age  \n",
      "216   28  \n",
      "263  100  \n",
      "339    3  \n",
      "632   28  \n",
      "999   28  \n",
      "..   ...  \n",
      "718    7  \n",
      "733   28  \n",
      "582   28  \n",
      "31   365  \n",
      "454   56  \n",
      "\n",
      "[309 rows x 8 columns]\n",
      "Y Train- \n",
      "        CCS\n",
      "397  29.16\n",
      "420  33.09\n",
      "314  21.02\n",
      "383  78.80\n",
      "291  31.27\n",
      "..     ...\n",
      "274  17.22\n",
      "256  31.64\n",
      "516   9.85\n",
      "596  10.73\n",
      "349  17.37\n",
      "\n",
      "[721 rows x 1 columns]\n",
      "Y Test- \n",
      "        CCS\n",
      "216  28.47\n",
      "263  47.74\n",
      "339  21.91\n",
      "632  30.57\n",
      "999  15.57\n",
      "..     ...\n",
      "718  10.35\n",
      "733  33.61\n",
      "582  25.73\n",
      "31   52.91\n",
      "454  39.64\n",
      "\n",
      "[309 rows x 1 columns]\n"
     ]
    }
   ],
   "source": [
    "print(\"X Train- \\n\",x_train)\n",
    "print(\"X Test- \\n\",x_test)\n",
    "print(\"Y Train- \\n\",y_train)\n",
    "print(\"Y Test- \\n\",y_test)"
   ]
  },
  {
   "cell_type": "code",
   "execution_count": 70,
   "metadata": {},
   "outputs": [],
   "source": [
    "olsmod = sm.OLS(y_train, x_train)"
   ]
  },
  {
   "cell_type": "code",
   "execution_count": 71,
   "metadata": {},
   "outputs": [],
   "source": [
    "result = olsmod.fit()"
   ]
  },
  {
   "cell_type": "code",
   "execution_count": 72,
   "metadata": {
    "scrolled": true
   },
   "outputs": [
    {
     "data": {
      "text/html": [
       "<table class=\"simpletable\">\n",
       "<caption>OLS Regression Results</caption>\n",
       "<tr>\n",
       "  <th>Dep. Variable:</th>           <td>CCS</td>       <th>  R-squared (uncentered):</th>      <td>   0.932</td>\n",
       "</tr>\n",
       "<tr>\n",
       "  <th>Model:</th>                   <td>OLS</td>       <th>  Adj. R-squared (uncentered):</th> <td>   0.931</td>\n",
       "</tr>\n",
       "<tr>\n",
       "  <th>Method:</th>             <td>Least Squares</td>  <th>  F-statistic:       </th>          <td>   1222.</td>\n",
       "</tr>\n",
       "<tr>\n",
       "  <th>Date:</th>             <td>Thu, 20 Aug 2020</td> <th>  Prob (F-statistic):</th>           <td>  0.00</td> \n",
       "</tr>\n",
       "<tr>\n",
       "  <th>Time:</th>                 <td>15:50:42</td>     <th>  Log-Likelihood:    </th>          <td> -2710.7</td>\n",
       "</tr>\n",
       "<tr>\n",
       "  <th>No. Observations:</th>      <td>   721</td>      <th>  AIC:               </th>          <td>   5437.</td>\n",
       "</tr>\n",
       "<tr>\n",
       "  <th>Df Residuals:</th>          <td>   713</td>      <th>  BIC:               </th>          <td>   5474.</td>\n",
       "</tr>\n",
       "<tr>\n",
       "  <th>Df Model:</th>              <td>     8</td>      <th>                     </th>              <td> </td>   \n",
       "</tr>\n",
       "<tr>\n",
       "  <th>Covariance Type:</th>      <td>nonrobust</td>    <th>                     </th>              <td> </td>   \n",
       "</tr>\n",
       "</table>\n",
       "<table class=\"simpletable\">\n",
       "<tr>\n",
       "          <td></td>            <th>coef</th>     <th>std err</th>      <th>t</th>      <th>P>|t|</th>  <th>[0.025</th>    <th>0.975]</th>  \n",
       "</tr>\n",
       "<tr>\n",
       "  <th>cementcomp</th>       <td>    0.1113</td> <td>    0.005</td> <td>   22.018</td> <td> 0.000</td> <td>    0.101</td> <td>    0.121</td>\n",
       "</tr>\n",
       "<tr>\n",
       "  <th>slag</th>             <td>    0.0936</td> <td>    0.006</td> <td>   14.634</td> <td> 0.000</td> <td>    0.081</td> <td>    0.106</td>\n",
       "</tr>\n",
       "<tr>\n",
       "  <th>flyash</th>           <td>    0.0744</td> <td>    0.009</td> <td>    7.937</td> <td> 0.000</td> <td>    0.056</td> <td>    0.093</td>\n",
       "</tr>\n",
       "<tr>\n",
       "  <th>water</th>            <td>   -0.1795</td> <td>    0.019</td> <td>   -9.284</td> <td> 0.000</td> <td>   -0.217</td> <td>   -0.142</td>\n",
       "</tr>\n",
       "<tr>\n",
       "  <th>superplastisizer</th> <td>    0.3155</td> <td>    0.105</td> <td>    3.009</td> <td> 0.003</td> <td>    0.110</td> <td>    0.521</td>\n",
       "</tr>\n",
       "<tr>\n",
       "  <th>coraseaggr</th>       <td>    0.0109</td> <td>    0.004</td> <td>    3.043</td> <td> 0.002</td> <td>    0.004</td> <td>    0.018</td>\n",
       "</tr>\n",
       "<tr>\n",
       "  <th>finraggr</th>         <td>    0.0108</td> <td>    0.004</td> <td>    2.568</td> <td> 0.010</td> <td>    0.003</td> <td>    0.019</td>\n",
       "</tr>\n",
       "<tr>\n",
       "  <th>age</th>              <td>    0.1145</td> <td>    0.007</td> <td>   17.595</td> <td> 0.000</td> <td>    0.102</td> <td>    0.127</td>\n",
       "</tr>\n",
       "</table>\n",
       "<table class=\"simpletable\">\n",
       "<tr>\n",
       "  <th>Omnibus:</th>       <td> 5.379</td> <th>  Durbin-Watson:     </th> <td>   2.017</td>\n",
       "</tr>\n",
       "<tr>\n",
       "  <th>Prob(Omnibus):</th> <td> 0.068</td> <th>  Jarque-Bera (JB):  </th> <td>   5.453</td>\n",
       "</tr>\n",
       "<tr>\n",
       "  <th>Skew:</th>          <td>-0.198</td> <th>  Prob(JB):          </th> <td>  0.0655</td>\n",
       "</tr>\n",
       "<tr>\n",
       "  <th>Kurtosis:</th>      <td> 2.843</td> <th>  Cond. No.          </th> <td>    351.</td>\n",
       "</tr>\n",
       "</table><br/><br/>Warnings:<br/>[1] Standard Errors assume that the covariance matrix of the errors is correctly specified."
      ],
      "text/plain": [
       "<class 'statsmodels.iolib.summary.Summary'>\n",
       "\"\"\"\n",
       "                                 OLS Regression Results                                \n",
       "=======================================================================================\n",
       "Dep. Variable:                    CCS   R-squared (uncentered):                   0.932\n",
       "Model:                            OLS   Adj. R-squared (uncentered):              0.931\n",
       "Method:                 Least Squares   F-statistic:                              1222.\n",
       "Date:                Thu, 20 Aug 2020   Prob (F-statistic):                        0.00\n",
       "Time:                        15:50:42   Log-Likelihood:                         -2710.7\n",
       "No. Observations:                 721   AIC:                                      5437.\n",
       "Df Residuals:                     713   BIC:                                      5474.\n",
       "Df Model:                           8                                                  \n",
       "Covariance Type:            nonrobust                                                  \n",
       "====================================================================================\n",
       "                       coef    std err          t      P>|t|      [0.025      0.975]\n",
       "------------------------------------------------------------------------------------\n",
       "cementcomp           0.1113      0.005     22.018      0.000       0.101       0.121\n",
       "slag                 0.0936      0.006     14.634      0.000       0.081       0.106\n",
       "flyash               0.0744      0.009      7.937      0.000       0.056       0.093\n",
       "water               -0.1795      0.019     -9.284      0.000      -0.217      -0.142\n",
       "superplastisizer     0.3155      0.105      3.009      0.003       0.110       0.521\n",
       "coraseaggr           0.0109      0.004      3.043      0.002       0.004       0.018\n",
       "finraggr             0.0108      0.004      2.568      0.010       0.003       0.019\n",
       "age                  0.1145      0.007     17.595      0.000       0.102       0.127\n",
       "==============================================================================\n",
       "Omnibus:                        5.379   Durbin-Watson:                   2.017\n",
       "Prob(Omnibus):                  0.068   Jarque-Bera (JB):                5.453\n",
       "Skew:                          -0.198   Prob(JB):                       0.0655\n",
       "Kurtosis:                       2.843   Cond. No.                         351.\n",
       "==============================================================================\n",
       "\n",
       "Warnings:\n",
       "[1] Standard Errors assume that the covariance matrix of the errors is correctly specified.\n",
       "\"\"\""
      ]
     },
     "execution_count": 72,
     "metadata": {},
     "output_type": "execute_result"
    }
   ],
   "source": [
    "result.summary()"
   ]
  },
  {
   "cell_type": "code",
   "execution_count": 73,
   "metadata": {
    "scrolled": false
   },
   "outputs": [
    {
     "name": "stdout",
     "output_type": "stream",
     "text": [
      "216    28.252139\n",
      "263    37.909706\n",
      "339    33.028746\n",
      "632    26.354428\n",
      "999    26.543154\n",
      "         ...    \n",
      "718    14.191207\n",
      "733    27.792154\n",
      "582    22.369169\n",
      "31     58.517827\n",
      "454    28.159242\n",
      "Length: 309, dtype: float64\n"
     ]
    }
   ],
   "source": [
    "predict = result.predict(x_test)\n",
    "print(predict)"
   ]
  },
  {
   "cell_type": "code",
   "execution_count": 74,
   "metadata": {},
   "outputs": [
    {
     "name": "stdout",
     "output_type": "stream",
     "text": [
      "[28.25 37.91 33.03 26.35 26.54 16.18 20.08 41.93 25.26 53.74 32.38 37.19\n",
      " 42.48 40.98 53.23 34.38 26.56 34.76 31.81 46.74 43.14 33.79 38.79 33.24\n",
      " 60.64 35.77 30.87 48.48 58.25 31.18 40.2  60.53 34.89 69.44 33.17 45.67\n",
      " 24.78 44.46 25.67 33.91 51.33 29.79 25.4  39.71 63.22 42.96 27.57 51.49\n",
      " 39.4  20.64]\n"
     ]
    }
   ],
   "source": [
    "actual = list(y_test.head(50))\n",
    "pred = np.round(np.array(list(predict.head(50))), 2)\n",
    "print(pred)"
   ]
  },
  {
   "cell_type": "code",
   "execution_count": 75,
   "metadata": {},
   "outputs": [
    {
     "ename": "ValueError",
     "evalue": "arrays must all be same length",
     "output_type": "error",
     "traceback": [
      "\u001b[0;31m---------------------------------------------------------------------------\u001b[0m",
      "\u001b[0;31mValueError\u001b[0m                                Traceback (most recent call last)",
      "\u001b[0;32m<ipython-input-75-893a53cc9fc4>\u001b[0m in \u001b[0;36m<module>\u001b[0;34m\u001b[0m\n\u001b[0;32m----> 1\u001b[0;31m \u001b[0mdf_results\u001b[0m \u001b[0;34m=\u001b[0m \u001b[0mpd\u001b[0m\u001b[0;34m.\u001b[0m\u001b[0mDataFrame\u001b[0m\u001b[0;34m(\u001b[0m\u001b[0;34m{\u001b[0m\u001b[0;34m\"Actual\"\u001b[0m\u001b[0;34m:\u001b[0m \u001b[0mactual\u001b[0m\u001b[0;34m,\u001b[0m \u001b[0;34m\"Predicted\"\u001b[0m\u001b[0;34m:\u001b[0m \u001b[0mpred\u001b[0m\u001b[0;34m}\u001b[0m\u001b[0;34m)\u001b[0m\u001b[0;34m\u001b[0m\u001b[0;34m\u001b[0m\u001b[0m\n\u001b[0m",
      "\u001b[0;32m~/anaconda3/envs/ML/lib/python3.7/site-packages/pandas/core/frame.py\u001b[0m in \u001b[0;36m__init__\u001b[0;34m(self, data, index, columns, dtype, copy)\u001b[0m\n\u001b[1;32m    433\u001b[0m             )\n\u001b[1;32m    434\u001b[0m         \u001b[0;32melif\u001b[0m \u001b[0misinstance\u001b[0m\u001b[0;34m(\u001b[0m\u001b[0mdata\u001b[0m\u001b[0;34m,\u001b[0m \u001b[0mdict\u001b[0m\u001b[0;34m)\u001b[0m\u001b[0;34m:\u001b[0m\u001b[0;34m\u001b[0m\u001b[0;34m\u001b[0m\u001b[0m\n\u001b[0;32m--> 435\u001b[0;31m             \u001b[0mmgr\u001b[0m \u001b[0;34m=\u001b[0m \u001b[0minit_dict\u001b[0m\u001b[0;34m(\u001b[0m\u001b[0mdata\u001b[0m\u001b[0;34m,\u001b[0m \u001b[0mindex\u001b[0m\u001b[0;34m,\u001b[0m \u001b[0mcolumns\u001b[0m\u001b[0;34m,\u001b[0m \u001b[0mdtype\u001b[0m\u001b[0;34m=\u001b[0m\u001b[0mdtype\u001b[0m\u001b[0;34m)\u001b[0m\u001b[0;34m\u001b[0m\u001b[0;34m\u001b[0m\u001b[0m\n\u001b[0m\u001b[1;32m    436\u001b[0m         \u001b[0;32melif\u001b[0m \u001b[0misinstance\u001b[0m\u001b[0;34m(\u001b[0m\u001b[0mdata\u001b[0m\u001b[0;34m,\u001b[0m \u001b[0mma\u001b[0m\u001b[0;34m.\u001b[0m\u001b[0mMaskedArray\u001b[0m\u001b[0;34m)\u001b[0m\u001b[0;34m:\u001b[0m\u001b[0;34m\u001b[0m\u001b[0;34m\u001b[0m\u001b[0m\n\u001b[1;32m    437\u001b[0m             \u001b[0;32mimport\u001b[0m \u001b[0mnumpy\u001b[0m\u001b[0;34m.\u001b[0m\u001b[0mma\u001b[0m\u001b[0;34m.\u001b[0m\u001b[0mmrecords\u001b[0m \u001b[0;32mas\u001b[0m \u001b[0mmrecords\u001b[0m\u001b[0;34m\u001b[0m\u001b[0;34m\u001b[0m\u001b[0m\n",
      "\u001b[0;32m~/anaconda3/envs/ML/lib/python3.7/site-packages/pandas/core/internals/construction.py\u001b[0m in \u001b[0;36minit_dict\u001b[0;34m(data, index, columns, dtype)\u001b[0m\n\u001b[1;32m    252\u001b[0m             \u001b[0marr\u001b[0m \u001b[0;32mif\u001b[0m \u001b[0;32mnot\u001b[0m \u001b[0mis_datetime64tz_dtype\u001b[0m\u001b[0;34m(\u001b[0m\u001b[0marr\u001b[0m\u001b[0;34m)\u001b[0m \u001b[0;32melse\u001b[0m \u001b[0marr\u001b[0m\u001b[0;34m.\u001b[0m\u001b[0mcopy\u001b[0m\u001b[0;34m(\u001b[0m\u001b[0;34m)\u001b[0m \u001b[0;32mfor\u001b[0m \u001b[0marr\u001b[0m \u001b[0;32min\u001b[0m \u001b[0marrays\u001b[0m\u001b[0;34m\u001b[0m\u001b[0;34m\u001b[0m\u001b[0m\n\u001b[1;32m    253\u001b[0m         ]\n\u001b[0;32m--> 254\u001b[0;31m     \u001b[0;32mreturn\u001b[0m \u001b[0marrays_to_mgr\u001b[0m\u001b[0;34m(\u001b[0m\u001b[0marrays\u001b[0m\u001b[0;34m,\u001b[0m \u001b[0mdata_names\u001b[0m\u001b[0;34m,\u001b[0m \u001b[0mindex\u001b[0m\u001b[0;34m,\u001b[0m \u001b[0mcolumns\u001b[0m\u001b[0;34m,\u001b[0m \u001b[0mdtype\u001b[0m\u001b[0;34m=\u001b[0m\u001b[0mdtype\u001b[0m\u001b[0;34m)\u001b[0m\u001b[0;34m\u001b[0m\u001b[0;34m\u001b[0m\u001b[0m\n\u001b[0m\u001b[1;32m    255\u001b[0m \u001b[0;34m\u001b[0m\u001b[0m\n\u001b[1;32m    256\u001b[0m \u001b[0;34m\u001b[0m\u001b[0m\n",
      "\u001b[0;32m~/anaconda3/envs/ML/lib/python3.7/site-packages/pandas/core/internals/construction.py\u001b[0m in \u001b[0;36marrays_to_mgr\u001b[0;34m(arrays, arr_names, index, columns, dtype)\u001b[0m\n\u001b[1;32m     62\u001b[0m     \u001b[0;31m# figure out the index, if necessary\u001b[0m\u001b[0;34m\u001b[0m\u001b[0;34m\u001b[0m\u001b[0;34m\u001b[0m\u001b[0m\n\u001b[1;32m     63\u001b[0m     \u001b[0;32mif\u001b[0m \u001b[0mindex\u001b[0m \u001b[0;32mis\u001b[0m \u001b[0;32mNone\u001b[0m\u001b[0;34m:\u001b[0m\u001b[0;34m\u001b[0m\u001b[0;34m\u001b[0m\u001b[0m\n\u001b[0;32m---> 64\u001b[0;31m         \u001b[0mindex\u001b[0m \u001b[0;34m=\u001b[0m \u001b[0mextract_index\u001b[0m\u001b[0;34m(\u001b[0m\u001b[0marrays\u001b[0m\u001b[0;34m)\u001b[0m\u001b[0;34m\u001b[0m\u001b[0;34m\u001b[0m\u001b[0m\n\u001b[0m\u001b[1;32m     65\u001b[0m     \u001b[0;32melse\u001b[0m\u001b[0;34m:\u001b[0m\u001b[0;34m\u001b[0m\u001b[0;34m\u001b[0m\u001b[0m\n\u001b[1;32m     66\u001b[0m         \u001b[0mindex\u001b[0m \u001b[0;34m=\u001b[0m \u001b[0mensure_index\u001b[0m\u001b[0;34m(\u001b[0m\u001b[0mindex\u001b[0m\u001b[0;34m)\u001b[0m\u001b[0;34m\u001b[0m\u001b[0;34m\u001b[0m\u001b[0m\n",
      "\u001b[0;32m~/anaconda3/envs/ML/lib/python3.7/site-packages/pandas/core/internals/construction.py\u001b[0m in \u001b[0;36mextract_index\u001b[0;34m(data)\u001b[0m\n\u001b[1;32m    363\u001b[0m             \u001b[0mlengths\u001b[0m \u001b[0;34m=\u001b[0m \u001b[0mlist\u001b[0m\u001b[0;34m(\u001b[0m\u001b[0mset\u001b[0m\u001b[0;34m(\u001b[0m\u001b[0mraw_lengths\u001b[0m\u001b[0;34m)\u001b[0m\u001b[0;34m)\u001b[0m\u001b[0;34m\u001b[0m\u001b[0;34m\u001b[0m\u001b[0m\n\u001b[1;32m    364\u001b[0m             \u001b[0;32mif\u001b[0m \u001b[0mlen\u001b[0m\u001b[0;34m(\u001b[0m\u001b[0mlengths\u001b[0m\u001b[0;34m)\u001b[0m \u001b[0;34m>\u001b[0m \u001b[0;36m1\u001b[0m\u001b[0;34m:\u001b[0m\u001b[0;34m\u001b[0m\u001b[0;34m\u001b[0m\u001b[0m\n\u001b[0;32m--> 365\u001b[0;31m                 \u001b[0;32mraise\u001b[0m \u001b[0mValueError\u001b[0m\u001b[0;34m(\u001b[0m\u001b[0;34m\"arrays must all be same length\"\u001b[0m\u001b[0;34m)\u001b[0m\u001b[0;34m\u001b[0m\u001b[0;34m\u001b[0m\u001b[0m\n\u001b[0m\u001b[1;32m    366\u001b[0m \u001b[0;34m\u001b[0m\u001b[0m\n\u001b[1;32m    367\u001b[0m             \u001b[0;32mif\u001b[0m \u001b[0mhave_dicts\u001b[0m\u001b[0;34m:\u001b[0m\u001b[0;34m\u001b[0m\u001b[0;34m\u001b[0m\u001b[0m\n",
      "\u001b[0;31mValueError\u001b[0m: arrays must all be same length"
     ]
    }
   ],
   "source": [
    "df_results = pd.DataFrame({\"Actual\": actual, \"Predicted\": pred})"
   ]
  }
 ],
 "metadata": {
  "kernelspec": {
   "display_name": "Python 3",
   "language": "python",
   "name": "python3"
  },
  "language_info": {
   "codemirror_mode": {
    "name": "ipython",
    "version": 3
   },
   "file_extension": ".py",
   "mimetype": "text/x-python",
   "name": "python",
   "nbconvert_exporter": "python",
   "pygments_lexer": "ipython3",
   "version": "3.7.7"
  }
 },
 "nbformat": 4,
 "nbformat_minor": 4
}
