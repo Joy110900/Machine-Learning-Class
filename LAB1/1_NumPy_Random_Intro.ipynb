{
 "cells": [
  {
   "cell_type": "markdown",
   "metadata": {},
   "source": [
    "# Experiment No. 1"
   ]
  },
  {
   "cell_type": "markdown",
   "metadata": {},
   "source": [
    "### Roll No.: 18BIC026 Joy Mehta"
   ]
  },
  {
   "cell_type": "markdown",
   "metadata": {},
   "source": [
    "Date: 23/07/2020"
   ]
  },
  {
   "cell_type": "markdown",
   "metadata": {},
   "source": [
    "## Aim: \n",
    "#### Variables, Numpy Arrays, expressions and functions in python. "
   ]
  },
  {
   "cell_type": "markdown",
   "metadata": {},
   "source": [
    "## Objectives:\n",
    "\n",
    ">To implement operations with variables, Numpy Arrays, expressions and functions in python."
   ]
  },
  {
   "cell_type": "markdown",
   "metadata": {},
   "source": [
    "### Pre-Lab Exercise:\n",
    "1. Learn about variables, Numpy Arrays, expressions and functions."
   ]
  },
  {
   "cell_type": "markdown",
   "metadata": {},
   "source": [
    "### Reference Book:\n",
    "1. Downey, Allen. Think Python. “O’Reilly Media, Inc.\", 2012."
   ]
  },
  {
   "cell_type": "markdown",
   "metadata": {},
   "source": [
    "## Programming Exercise:"
   ]
  },
  {
   "cell_type": "code",
   "execution_count": 2,
   "metadata": {},
   "outputs": [],
   "source": [
    "#importing random library\n",
    "import random as r"
   ]
  },
  {
   "cell_type": "code",
   "execution_count": 4,
   "metadata": {
    "colab": {
     "base_uri": "https://localhost:8080/",
     "height": 34
    },
    "colab_type": "code",
    "id": "Gns21gbxyalT",
    "outputId": "b4969ff9-eecc-4973-f2be-2afbec4d56ef"
   },
   "outputs": [
    {
     "data": {
      "text/plain": [
       "449"
      ]
     },
     "execution_count": 4,
     "metadata": {},
     "output_type": "execute_result"
    }
   ],
   "source": [
    "#print random no. in range 1-1000 \n",
    "r.randint(1,1000)"
   ]
  },
  {
   "cell_type": "code",
   "execution_count": 5,
   "metadata": {
    "colab": {
     "base_uri": "https://localhost:8080/",
     "height": 187
    },
    "colab_type": "code",
    "id": "7zIdfbtrzlKx",
    "outputId": "7cae8a6f-d1a0-4973-fbf4-426fb800178a"
   },
   "outputs": [
    {
     "name": "stdout",
     "output_type": "stream",
     "text": [
      "5\n",
      "68\n",
      "60\n",
      "90\n",
      "48\n",
      "68\n",
      "39\n",
      "47\n",
      "60\n",
      "61\n"
     ]
    }
   ],
   "source": [
    "#print 10 random numbers\n",
    "for i in range(10):\n",
    "  print(r.randint(1, 100))"
   ]
  },
  {
   "cell_type": "code",
   "execution_count": 7,
   "metadata": {
    "colab": {
     "base_uri": "https://localhost:8080/",
     "height": 34
    },
    "colab_type": "code",
    "id": "ZWk2qn8M0Ceq",
    "outputId": "7e19257f-1531-480f-9b28-c5c4c54b0df6"
   },
   "outputs": [
    {
     "name": "stdout",
     "output_type": "stream",
     "text": [
      "21,6,97,100,2,84,57,5,49,18,71,19,29,94,76,57,24,73,65,11,"
     ]
    }
   ],
   "source": [
    "#print 200 random numbers horizintally\n",
    "for i in range(20):\n",
    "  print(r.randint(1, 100), end=\",\")"
   ]
  },
  {
   "cell_type": "code",
   "execution_count": 9,
   "metadata": {
    "colab": {
     "base_uri": "https://localhost:8080/",
     "height": 34
    },
    "colab_type": "code",
    "id": "M5TY-mUn0kv9",
    "outputId": "4c7c5d22-8b00-426f-a1b5-ff9f6136d386"
   },
   "outputs": [
    {
     "data": {
      "text/plain": [
       "[27, 77, 6, 71, 88, 81, 69, 14, 98, 5]"
      ]
     },
     "execution_count": 9,
     "metadata": {},
     "output_type": "execute_result"
    }
   ],
   "source": [
    "#generate 10 random numbers without repeatation\n",
    "r.sample(range(1, 100), 10)"
   ]
  },
  {
   "cell_type": "code",
   "execution_count": 10,
   "metadata": {
    "colab": {
     "base_uri": "https://localhost:8080/",
     "height": 34
    },
    "colab_type": "code",
    "id": "zawjy20O1RM3",
    "outputId": "bc8baa21-52b0-4559-f39c-717cd35f491f"
   },
   "outputs": [
    {
     "name": "stdout",
     "output_type": "stream",
     "text": [
      "88,22,91,40,70,97,94,46,91,13,"
     ]
    }
   ],
   "source": [
    "#generate random number with specific interval\n",
    "for i in range(10):\n",
    "  print(r.randrange(1, 100, 3), end=\",\")"
   ]
  },
  {
   "cell_type": "code",
   "execution_count": 13,
   "metadata": {
    "colab": {
     "base_uri": "https://localhost:8080/",
     "height": 34
    },
    "colab_type": "code",
    "id": "tLbG3V_32Sut",
    "outputId": "16897347-0249-4291-9fe9-194659377fc0"
   },
   "outputs": [
    {
     "data": {
      "text/plain": [
       "-0.16774893613410713"
      ]
     },
     "execution_count": 13,
     "metadata": {},
     "output_type": "execute_result"
    }
   ],
   "source": [
    "#random float numbers\n",
    "r.uniform(-3, 3)"
   ]
  },
  {
   "cell_type": "code",
   "execution_count": 15,
   "metadata": {
    "colab": {
     "base_uri": "https://localhost:8080/",
     "height": 35
    },
    "colab_type": "code",
    "id": "o8uTIpAM2eHK",
    "outputId": "d3180f8c-66b4-4ca4-c465-08ce569e1d02"
   },
   "outputs": [
    {
     "data": {
      "text/plain": [
       "'19.92280'"
      ]
     },
     "execution_count": 15,
     "metadata": {},
     "output_type": "execute_result"
    }
   ],
   "source": [
    "#generate random float number with 5 decimal point\n",
    "format(r.uniform(10, 20), '.5f')"
   ]
  },
  {
   "cell_type": "code",
   "execution_count": 17,
   "metadata": {
    "colab": {
     "base_uri": "https://localhost:8080/",
     "height": 34
    },
    "colab_type": "code",
    "id": "06Q9pY7Z3EP4",
    "outputId": "31b09d96-0fc3-493c-abe2-c75011f64320"
   },
   "outputs": [
    {
     "name": "stdout",
     "output_type": "stream",
     "text": [
      "2.04|6.97|3.56|5.90|7.67|4.15|5.45|3.35|4.89|9.44|"
     ]
    }
   ],
   "source": [
    "#generate 10 random float numbers\n",
    "for i in range(10):\n",
    "  print(format(r.uniform(1,10), '.2f'), end=\"|\")"
   ]
  },
  {
   "cell_type": "code",
   "execution_count": 19,
   "metadata": {
    "colab": {},
    "colab_type": "code",
    "id": "u5HCsgtb-RqZ"
   },
   "outputs": [],
   "source": [
    "#import numpy\n",
    "import numpy as np"
   ]
  },
  {
   "cell_type": "code",
   "execution_count": 20,
   "metadata": {
    "colab": {
     "base_uri": "https://localhost:8080/",
     "height": 34
    },
    "colab_type": "code",
    "id": "HbcPScAE-WOh",
    "outputId": "697ce587-f0f3-4d83-8628-69ac96af7225"
   },
   "outputs": [
    {
     "data": {
      "text/plain": [
       "array([31, 38, 75, 54, 13])"
      ]
     },
     "execution_count": 20,
     "metadata": {},
     "output_type": "execute_result"
    }
   ],
   "source": [
    "#generate random number array\n",
    "np.random.randint(1, 100, 5)"
   ]
  },
  {
   "cell_type": "code",
   "execution_count": 22,
   "metadata": {
    "colab": {
     "base_uri": "https://localhost:8080/",
     "height": 68
    },
    "colab_type": "code",
    "id": "NN6y6v_6_OoR",
    "outputId": "6ac3ba1a-295f-4ad5-993e-b0045ec6992c"
   },
   "outputs": [
    {
     "data": {
      "text/plain": [
       "array([0.58597645, 0.32252778, 0.43238475, 0.43755763, 0.18583346,\n",
       "       0.61113552, 0.21265767, 0.33738988, 0.7406151 , 0.19533521,\n",
       "       0.62342472, 0.0040537 , 0.47130723, 0.86178793, 0.55493842,\n",
       "       0.5291374 , 0.90252614, 0.58615985, 0.03904643, 0.57960922])"
      ]
     },
     "execution_count": 22,
     "metadata": {},
     "output_type": "execute_result"
    }
   ],
   "source": [
    "#generate 20 random float number array\n",
    "np.random.ranf(20)"
   ]
  },
  {
   "cell_type": "code",
   "execution_count": 25,
   "metadata": {
    "colab": {
     "base_uri": "https://localhost:8080/",
     "height": 51
    },
    "colab_type": "code",
    "id": "tt-uAQAw_O23",
    "outputId": "f8fd4dd9-8488-41c9-c976-f910e7662efd"
   },
   "outputs": [
    {
     "data": {
      "text/plain": [
       "array([0.84, 0.85, 0.22, 0.81, 0.85, 0.98, 0.48, 0.97, 0.59, 0.89, 0.6 ,\n",
       "       0.35, 0.81, 0.08, 0.2 ])"
      ]
     },
     "execution_count": 25,
     "metadata": {},
     "output_type": "execute_result"
    }
   ],
   "source": [
    "#generate 15 random float numbers with 2 decimal point place bw 0 and 1\n",
    "np.round(np.random.ranf(15), decimals=2)"
   ]
  },
  {
   "cell_type": "code",
   "execution_count": 31,
   "metadata": {
    "colab": {
     "base_uri": "https://localhost:8080/",
     "height": 51
    },
    "colab_type": "code",
    "id": "d6QRCXCt_PB8",
    "outputId": "a996a0d6-c449-409e-aa43-d0742b5ceb71"
   },
   "outputs": [
    {
     "data": {
      "text/plain": [
       "array([1.76148986, 3.28596124, 2.46025052, 4.96868493, 3.65617105,\n",
       "       1.64408871, 1.09526566, 2.61392542, 2.46964369, 4.07677496])"
      ]
     },
     "execution_count": 31,
     "metadata": {},
     "output_type": "execute_result"
    }
   ],
   "source": [
    "#generate 10 random float numbers in range 1-5\n",
    "np.random.uniform(1, 5, 10)"
   ]
  },
  {
   "cell_type": "code",
   "execution_count": 32,
   "metadata": {
    "colab": {
     "base_uri": "https://localhost:8080/",
     "height": 34
    },
    "colab_type": "code",
    "id": "mhYaP-OfAdt2",
    "outputId": "d1c9f5e2-895d-4671-e36f-d0d49a51da35"
   },
   "outputs": [
    {
     "data": {
      "text/plain": [
       "array([2.16, 4.59, 2.62, 1.11, 2.44, 1.36, 4.55, 3.14, 4.09, 1.89])"
      ]
     },
     "execution_count": 32,
     "metadata": {},
     "output_type": "execute_result"
    }
   ],
   "source": [
    "#roundoff randomly generated float numbers to 2 decimals\n",
    "np.round(np.random.uniform(1, 5, 10), decimals=2)"
   ]
  },
  {
   "cell_type": "code",
   "execution_count": 34,
   "metadata": {
    "colab": {
     "base_uri": "https://localhost:8080/",
     "height": 68
    },
    "colab_type": "code",
    "id": "NP3GrZzIAnnG",
    "outputId": "07833201-f5f2-443d-f3f6-926c78192490"
   },
   "outputs": [
    {
     "data": {
      "text/plain": [
       "array([[0.26770926, 0.42691096, 0.17162341, 0.46491927],\n",
       "       [0.96499359, 0.89763565, 0.68231144, 0.88870403],\n",
       "       [0.14415003, 0.01708817, 0.55145395, 0.5514044 ],\n",
       "       [0.81313963, 0.77618836, 0.83143911, 0.27074521],\n",
       "       [0.48894886, 0.57266397, 0.16709137, 0.12376432]])"
      ]
     },
     "execution_count": 34,
     "metadata": {},
     "output_type": "execute_result"
    }
   ],
   "source": [
    "#generate randmom numbers and store them in a matrix\n",
    "np.random.sample((5,4))"
   ]
  },
  {
   "cell_type": "code",
   "execution_count": 37,
   "metadata": {
    "colab": {
     "base_uri": "https://localhost:8080/",
     "height": 34
    },
    "colab_type": "code",
    "id": "9IthgG4tBM-y",
    "outputId": "e1099b39-cb69-4232-f78d-fa4728513d93"
   },
   "outputs": [
    {
     "data": {
      "text/plain": [
       "[1, 2, 3, 5, 3, 2]"
      ]
     },
     "execution_count": 37,
     "metadata": {},
     "output_type": "execute_result"
    }
   ],
   "source": [
    "#conventional python list\n",
    "l1 = [1,2,3]\n",
    "l2 = [5,3,2]\n",
    "l1 + l2\n",
    "#this concatenate both lists elements and outputs a list"
   ]
  },
  {
   "cell_type": "code",
   "execution_count": 38,
   "metadata": {
    "colab": {
     "base_uri": "https://localhost:8080/",
     "height": 34
    },
    "colab_type": "code",
    "id": "U4HjGBHwCYwv",
    "outputId": "84910496-a18c-44ee-aca4-03cf034013e5"
   },
   "outputs": [
    {
     "data": {
      "text/plain": [
       "array([ 3,  5,  7, 24])"
      ]
     },
     "execution_count": 38,
     "metadata": {},
     "output_type": "execute_result"
    }
   ],
   "source": [
    "#np.array individually adds the elements to the corresponding element in the next list\n",
    "l1 = np.array([2,3,5,2])\n",
    "l2 = np.array([1, 2, 2 ,22])\n",
    "l1 + l2"
   ]
  },
  {
   "cell_type": "code",
   "execution_count": 40,
   "metadata": {
    "colab": {
     "base_uri": "https://localhost:8080/",
     "height": 51
    },
    "colab_type": "code",
    "id": "b8PZFlmLC-Ib",
    "outputId": "d8a1f734-855f-4c89-c7b5-6d916367e7f7"
   },
   "outputs": [
    {
     "name": "stdout",
     "output_type": "stream",
     "text": [
      "[26 42 83 19 81 28 95 50 64 94 99 93 15 58 96 91 79 45 74 86  4 67 88 52\n",
      "  5 78 70 98  2 60 84 51 25 54 48  8 23 31 85 65 73 34 36 13 63 82 41 37\n",
      " 69 32]\n"
     ]
    }
   ],
   "source": [
    "#generate an list of 30 random numbers in range of 1-100\n",
    "arr1 = np.array(r.sample(range(1, 100), 50))\n",
    "print(arr1)"
   ]
  },
  {
   "cell_type": "code",
   "execution_count": 42,
   "metadata": {
    "colab": {
     "base_uri": "https://localhost:8080/",
     "height": 102
    },
    "colab_type": "code",
    "id": "C46cD3f6HUWj",
    "outputId": "283cabbf-2b58-4541-dbd7-e5046244338e"
   },
   "outputs": [
    {
     "data": {
      "text/plain": [
       "array([[26, 42, 83, 19, 81, 28, 95, 50, 64, 94],\n",
       "       [99, 93, 15, 58, 96, 91, 79, 45, 74, 86],\n",
       "       [ 4, 67, 88, 52,  5, 78, 70, 98,  2, 60],\n",
       "       [84, 51, 25, 54, 48,  8, 23, 31, 85, 65],\n",
       "       [73, 34, 36, 13, 63, 82, 41, 37, 69, 32]])"
      ]
     },
     "execution_count": 42,
     "metadata": {},
     "output_type": "execute_result"
    }
   ],
   "source": [
    "#reshape arr1 into 5x10 array\n",
    "arr1.reshape((5, 10))"
   ]
  },
  {
   "cell_type": "code",
   "execution_count": 48,
   "metadata": {
    "colab": {
     "base_uri": "https://localhost:8080/",
     "height": 187
    },
    "colab_type": "code",
    "id": "wpOh83eCEMDV",
    "outputId": "7161eb62-5846-43d9-be20-5ac66c15ad39"
   },
   "outputs": [
    {
     "name": "stdout",
     "output_type": "stream",
     "text": [
      "[[0.51652952 0.82585391 0.31313959 0.49436973 0.89561267]\n",
      " [0.79741258 0.23329627 0.24103558 0.34823734 0.98165232]\n",
      " [0.11925573 0.6366967  0.78765822 0.33966891 0.91436038]\n",
      " [0.34615738 0.39850297 0.31621928 0.62330216 0.58745738]\n",
      " [0.78699308 0.28322331 0.95606575 0.02723569 0.6916074 ]]\n"
     ]
    }
   ],
   "source": [
    "#create a 5x5 array\n",
    "dataset = np.random.sample((5,5))\n",
    "print(dataset)"
   ]
  },
  {
   "cell_type": "code",
   "execution_count": 49,
   "metadata": {
    "colab": {
     "base_uri": "https://localhost:8080/",
     "height": 51
    },
    "colab_type": "code",
    "id": "89jZvGjHFJCh",
    "outputId": "dbf6589f-3d37-44cb-e7ca-3e463c869a55"
   },
   "outputs": [
    {
     "data": {
      "text/plain": [
       "array([0.51652952, 0.79741258, 0.11925573, 0.34615738, 0.78699308])"
      ]
     },
     "execution_count": 49,
     "metadata": {},
     "output_type": "execute_result"
    }
   ],
   "source": [
    "#access various elements of the array\n",
    "dataset[:,0] #First column"
   ]
  },
  {
   "cell_type": "code",
   "execution_count": 51,
   "metadata": {},
   "outputs": [
    {
     "data": {
      "text/plain": [
       "array([0.51652952, 0.82585391, 0.31313959, 0.49436973, 0.89561267])"
      ]
     },
     "execution_count": 51,
     "metadata": {},
     "output_type": "execute_result"
    }
   ],
   "source": [
    "dataset[0] #First Column"
   ]
  },
  {
   "cell_type": "code",
   "execution_count": 52,
   "metadata": {},
   "outputs": [
    {
     "data": {
      "text/plain": [
       "0.33966891194587756"
      ]
     },
     "execution_count": 52,
     "metadata": {},
     "output_type": "execute_result"
    }
   ],
   "source": [
    "dataset[2][3] #Access 4th element from 3rd row"
   ]
  },
  {
   "cell_type": "code",
   "execution_count": 53,
   "metadata": {},
   "outputs": [
    {
     "data": {
      "text/plain": [
       "array([[0.11925573, 0.6366967 , 0.78765822, 0.33966891, 0.91436038],\n",
       "       [0.34615738, 0.39850297, 0.31621928, 0.62330216, 0.58745738],\n",
       "       [0.78699308, 0.28322331, 0.95606575, 0.02723569, 0.6916074 ]])"
      ]
     },
     "execution_count": 53,
     "metadata": {},
     "output_type": "execute_result"
    }
   ],
   "source": [
    "dataset[-3:] #access last 3 rows"
   ]
  },
  {
   "cell_type": "code",
   "execution_count": 57,
   "metadata": {},
   "outputs": [
    {
     "data": {
      "text/plain": [
       "array([0.31313959, 0.24103558, 0.78765822, 0.31621928, 0.95606575])"
      ]
     },
     "execution_count": 57,
     "metadata": {},
     "output_type": "execute_result"
    }
   ],
   "source": [
    "dataset[:,-3] #print 3rd last column of dataset"
   ]
  },
  {
   "cell_type": "code",
   "execution_count": 59,
   "metadata": {},
   "outputs": [
    {
     "data": {
      "text/plain": [
       "array([[0.31313959, 0.49436973, 0.89561267],\n",
       "       [0.24103558, 0.34823734, 0.98165232],\n",
       "       [0.78765822, 0.33966891, 0.91436038],\n",
       "       [0.31621928, 0.62330216, 0.58745738],\n",
       "       [0.95606575, 0.02723569, 0.6916074 ]])"
      ]
     },
     "execution_count": 59,
     "metadata": {},
     "output_type": "execute_result"
    }
   ],
   "source": [
    "dataset[:, -3:] #print last 3 columns of datase"
   ]
  },
  {
   "cell_type": "markdown",
   "metadata": {},
   "source": [
    "## Conclusion"
   ]
  },
  {
   "cell_type": "markdown",
   "metadata": {},
   "source": [
    "* In this lab we were introduced to python programming and librarie like random and numpy.\n",
    "\n",
    "* We leanred functions of these libraries, like generating random numbers, generating random numbers between different range, generating random numbers with intervals, using arrays with numpy, reshaping an array, generating a matrix with random numbers and accessing different elements of a matrix generated."
   ]
  }
 ],
 "metadata": {
  "colab": {
   "name": "Lab1_Introduction.ipynb",
   "provenance": []
  },
  "kernelspec": {
   "display_name": "Python 3",
   "language": "python",
   "name": "python3"
  },
  "language_info": {
   "codemirror_mode": {
    "name": "ipython",
    "version": 3
   },
   "file_extension": ".py",
   "mimetype": "text/x-python",
   "name": "python",
   "nbconvert_exporter": "python",
   "pygments_lexer": "ipython3",
   "version": "3.7.7"
  }
 },
 "nbformat": 4,
 "nbformat_minor": 1
}
