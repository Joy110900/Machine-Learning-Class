{
 "cells": [
  {
   "cell_type": "markdown",
   "metadata": {},
   "source": [
    "# Experiment No. 4"
   ]
  },
  {
   "cell_type": "markdown",
   "metadata": {},
   "source": [
    "### Roll No.: 18BIC026 Joy Mehta"
   ]
  },
  {
   "cell_type": "markdown",
   "metadata": {},
   "source": [
    "Date: 03/09/2020"
   ]
  },
  {
   "cell_type": "markdown",
   "metadata": {},
   "source": [
    "## Aim: \n",
    "#### Linear Regression Model"
   ]
  },
  {
   "cell_type": "markdown",
   "metadata": {},
   "source": [
    "## Objectives:\n",
    "\n",
    "> To implement Linear Regression algorithm"
   ]
  },
  {
   "cell_type": "markdown",
   "metadata": {},
   "source": [
    "### Pre-Lab Exercise:\n",
    "1. Learn theoretical concepts related to Linear Regression algorithm."
   ]
  },
  {
   "cell_type": "markdown",
   "metadata": {},
   "source": [
    "### Reference Book:\n",
    "1. Tom Mitchell, Machine Learning, TMH Publications."
   ]
  },
  {
   "cell_type": "markdown",
   "metadata": {},
   "source": [
    "## Programming Exercise:"
   ]
  },
  {
   "cell_type": "code",
   "execution_count": 3,
   "metadata": {},
   "outputs": [],
   "source": [
    "#importing important libraries\n",
    "import pandas as pd\n",
    "import sklearn.model_selection\n",
    "import statsmodels.api as sm\n",
    "import numpy as np"
   ]
  },
  {
   "cell_type": "code",
   "execution_count": 4,
   "metadata": {},
   "outputs": [],
   "source": [
    "#reading the data in to panda dataframe\n",
    "df = pd.read_csv(\"concrete.csv\")"
   ]
  },
  {
   "cell_type": "code",
   "execution_count": 5,
   "metadata": {},
   "outputs": [],
   "source": [
    "#Splitting into train and test data\n",
    "train, test = sklearn.model_selection.train_test_split(df, test_size=0.3)"
   ]
  },
  {
   "cell_type": "code",
   "execution_count": 6,
   "metadata": {},
   "outputs": [],
   "source": [
    "#Splitting train and test data into X and Y to train\n",
    "x_train = train.iloc[:, :-1]\n",
    "x_test = test.iloc[:, :-1]\n",
    "y_train = train.iloc[:, -1:]\n",
    "y_test = test.iloc[:, -1:]"
   ]
  },
  {
   "cell_type": "code",
   "execution_count": 7,
   "metadata": {
    "tags": []
   },
   "outputs": [
    {
     "name": "stdout",
     "output_type": "stream",
     "text": [
      "(721, 8)\n",
      "(309, 8)\n",
      "(721, 1)\n",
      "(309, 1)\n"
     ]
    }
   ],
   "source": [
    "#Visualising the shapes\n",
    "print(x_train.shape)\n",
    "print(x_test.shape)\n",
    "print(y_train.shape)\n",
    "print(y_test.shape)"
   ]
  },
  {
   "cell_type": "code",
   "execution_count": 8,
   "metadata": {
    "scrolled": true,
    "tags": []
   },
   "outputs": [
    {
     "name": "stdout",
     "output_type": "stream",
     "text": [
      "X Train- \n",
      "      cementcomp   slag  flyash  water  superplastisizer  coraseaggr  finraggr  \\\n",
      "146       425.0  106.3     0.0  153.5              16.5       852.1     887.1   \n",
      "184       222.4    0.0    96.7  189.3               4.5       967.1     870.3   \n",
      "906       266.0  112.0    87.0  178.0              10.0       910.0     745.0   \n",
      "544       289.0    0.0     0.0  192.0               0.0       913.2     895.3   \n",
      "733       349.0    0.0     0.0  192.0               0.0      1056.0     809.0   \n",
      "..          ...    ...     ...    ...               ...         ...       ...   \n",
      "454       250.0    0.0    95.7  191.8               5.3       948.9     857.2   \n",
      "727       331.0    0.0     0.0  192.0               0.0      1025.0     821.0   \n",
      "270       231.8    0.0   121.6  174.0               6.7      1056.4     778.5   \n",
      "938       154.8  183.4     0.0  193.3               9.1      1047.4     696.7   \n",
      "176       379.5  151.2     0.0  153.9              15.9      1134.3     605.0   \n",
      "\n",
      "     age  \n",
      "146   56  \n",
      "184    3  \n",
      "906   28  \n",
      "544    7  \n",
      "733   28  \n",
      "..   ...  \n",
      "454   56  \n",
      "727    7  \n",
      "270   14  \n",
      "938   28  \n",
      "176   91  \n",
      "\n",
      "[721 rows x 8 columns]\n",
      "X Test- \n",
      "       cementcomp   slag  flyash  water  superplastisizer  coraseaggr  \\\n",
      "971        312.7  144.7     0.0  127.3               8.0       999.7   \n",
      "882        140.0  133.0   103.0  200.0               7.0       916.0   \n",
      "812        310.0    0.0     0.0  192.0               0.0       970.0   \n",
      "617        254.0    0.0     0.0  198.0               0.0       968.0   \n",
      "1025       276.4  116.0    90.3  179.6               8.9       870.1   \n",
      "...          ...    ...     ...    ...               ...         ...   \n",
      "662        157.0  236.0     0.0  192.0               0.0       935.4   \n",
      "403        356.0  119.0     0.0  160.0               9.0      1061.0   \n",
      "698        203.5  305.3     0.0  203.5               0.0       963.4   \n",
      "186        222.4    0.0    96.7  189.3               4.5       967.1   \n",
      "256        212.5    0.0   100.4  159.3               8.7      1007.8   \n",
      "\n",
      "      finraggr  age  \n",
      "971      822.2   28  \n",
      "882      753.0   28  \n",
      "812      850.0   90  \n",
      "617      863.0    3  \n",
      "1025     768.3   28  \n",
      "...        ...  ...  \n",
      "662      781.2   28  \n",
      "403      657.0   28  \n",
      "698      630.0   28  \n",
      "186      870.3   28  \n",
      "256      903.6   28  \n",
      "\n",
      "[309 rows x 8 columns]\n",
      "Y Train- \n",
      "        CCS\n",
      "146  64.30\n",
      "184  11.58\n",
      "906  39.42\n",
      "544  14.60\n",
      "733  33.61\n",
      "..     ...\n",
      "454  39.64\n",
      "727  17.44\n",
      "270  26.77\n",
      "938  18.29\n",
      "176  56.50\n",
      "\n",
      "[721 rows x 1 columns]\n",
      "Y Test- \n",
      "         CCS\n",
      "971   44.52\n",
      "882   36.44\n",
      "812   34.68\n",
      "617    9.31\n",
      "1025  44.28\n",
      "...     ...\n",
      "662   33.66\n",
      "403   59.00\n",
      "698   41.68\n",
      "186   24.89\n",
      "256   31.64\n",
      "\n",
      "[309 rows x 1 columns]\n"
     ]
    }
   ],
   "source": [
    "print(\"X Train- \\n\",x_train)\n",
    "print(\"X Test- \\n\",x_test)\n",
    "print(\"Y Train- \\n\",y_train)\n",
    "print(\"Y Test- \\n\",y_test)"
   ]
  },
  {
   "cell_type": "code",
   "execution_count": 9,
   "metadata": {},
   "outputs": [],
   "source": [
    "olsmod = sm.OLS(y_train, x_train)"
   ]
  },
  {
   "cell_type": "code",
   "execution_count": 10,
   "metadata": {},
   "outputs": [],
   "source": [
    "#Training the model\n",
    "result = olsmod.fit()"
   ]
  },
  {
   "cell_type": "code",
   "execution_count": 11,
   "metadata": {
    "scrolled": true
   },
   "outputs": [
    {
     "data": {
      "text/html": [
       "<table class=\"simpletable\">\n",
       "<caption>OLS Regression Results</caption>\n",
       "<tr>\n",
       "  <th>Dep. Variable:</th>           <td>CCS</td>       <th>  R-squared (uncentered):</th>      <td>   0.931</td>\n",
       "</tr>\n",
       "<tr>\n",
       "  <th>Model:</th>                   <td>OLS</td>       <th>  Adj. R-squared (uncentered):</th> <td>   0.931</td>\n",
       "</tr>\n",
       "<tr>\n",
       "  <th>Method:</th>             <td>Least Squares</td>  <th>  F-statistic:       </th>          <td>   1212.</td>\n",
       "</tr>\n",
       "<tr>\n",
       "  <th>Date:</th>             <td>Thu, 03 Sep 2020</td> <th>  Prob (F-statistic):</th>           <td>  0.00</td> \n",
       "</tr>\n",
       "<tr>\n",
       "  <th>Time:</th>                 <td>15:47:07</td>     <th>  Log-Likelihood:    </th>          <td> -2715.9</td>\n",
       "</tr>\n",
       "<tr>\n",
       "  <th>No. Observations:</th>      <td>   721</td>      <th>  AIC:               </th>          <td>   5448.</td>\n",
       "</tr>\n",
       "<tr>\n",
       "  <th>Df Residuals:</th>          <td>   713</td>      <th>  BIC:               </th>          <td>   5484.</td>\n",
       "</tr>\n",
       "<tr>\n",
       "  <th>Df Model:</th>              <td>     8</td>      <th>                     </th>              <td> </td>   \n",
       "</tr>\n",
       "<tr>\n",
       "  <th>Covariance Type:</th>      <td>nonrobust</td>    <th>                     </th>              <td> </td>   \n",
       "</tr>\n",
       "</table>\n",
       "<table class=\"simpletable\">\n",
       "<tr>\n",
       "          <td></td>            <th>coef</th>     <th>std err</th>      <th>t</th>      <th>P>|t|</th>  <th>[0.025</th>    <th>0.975]</th>  \n",
       "</tr>\n",
       "<tr>\n",
       "  <th>cementcomp</th>       <td>    0.1153</td> <td>    0.005</td> <td>   22.292</td> <td> 0.000</td> <td>    0.105</td> <td>    0.125</td>\n",
       "</tr>\n",
       "<tr>\n",
       "  <th>slag</th>             <td>    0.0977</td> <td>    0.006</td> <td>   15.432</td> <td> 0.000</td> <td>    0.085</td> <td>    0.110</td>\n",
       "</tr>\n",
       "<tr>\n",
       "  <th>flyash</th>           <td>    0.0830</td> <td>    0.010</td> <td>    8.699</td> <td> 0.000</td> <td>    0.064</td> <td>    0.102</td>\n",
       "</tr>\n",
       "<tr>\n",
       "  <th>water</th>            <td>   -0.1981</td> <td>    0.020</td> <td>   -9.981</td> <td> 0.000</td> <td>   -0.237</td> <td>   -0.159</td>\n",
       "</tr>\n",
       "<tr>\n",
       "  <th>superplastisizer</th> <td>    0.1781</td> <td>    0.106</td> <td>    1.674</td> <td> 0.095</td> <td>   -0.031</td> <td>    0.387</td>\n",
       "</tr>\n",
       "<tr>\n",
       "  <th>coraseaggr</th>       <td>    0.0099</td> <td>    0.004</td> <td>    2.709</td> <td> 0.007</td> <td>    0.003</td> <td>    0.017</td>\n",
       "</tr>\n",
       "<tr>\n",
       "  <th>finraggr</th>         <td>    0.0152</td> <td>    0.004</td> <td>    3.551</td> <td> 0.000</td> <td>    0.007</td> <td>    0.024</td>\n",
       "</tr>\n",
       "<tr>\n",
       "  <th>age</th>              <td>    0.1128</td> <td>    0.006</td> <td>   17.379</td> <td> 0.000</td> <td>    0.100</td> <td>    0.126</td>\n",
       "</tr>\n",
       "</table>\n",
       "<table class=\"simpletable\">\n",
       "<tr>\n",
       "  <th>Omnibus:</th>       <td> 3.802</td> <th>  Durbin-Watson:     </th> <td>   1.916</td>\n",
       "</tr>\n",
       "<tr>\n",
       "  <th>Prob(Omnibus):</th> <td> 0.149</td> <th>  Jarque-Bera (JB):  </th> <td>   3.687</td>\n",
       "</tr>\n",
       "<tr>\n",
       "  <th>Skew:</th>          <td>-0.173</td> <th>  Prob(JB):          </th> <td>   0.158</td>\n",
       "</tr>\n",
       "<tr>\n",
       "  <th>Kurtosis:</th>      <td> 3.054</td> <th>  Cond. No.          </th> <td>    354.</td>\n",
       "</tr>\n",
       "</table><br/><br/>Warnings:<br/>[1] Standard Errors assume that the covariance matrix of the errors is correctly specified."
      ],
      "text/plain": [
       "<class 'statsmodels.iolib.summary.Summary'>\n",
       "\"\"\"\n",
       "                                 OLS Regression Results                                \n",
       "=======================================================================================\n",
       "Dep. Variable:                    CCS   R-squared (uncentered):                   0.931\n",
       "Model:                            OLS   Adj. R-squared (uncentered):              0.931\n",
       "Method:                 Least Squares   F-statistic:                              1212.\n",
       "Date:                Thu, 03 Sep 2020   Prob (F-statistic):                        0.00\n",
       "Time:                        15:47:07   Log-Likelihood:                         -2715.9\n",
       "No. Observations:                 721   AIC:                                      5448.\n",
       "Df Residuals:                     713   BIC:                                      5484.\n",
       "Df Model:                           8                                                  \n",
       "Covariance Type:            nonrobust                                                  \n",
       "====================================================================================\n",
       "                       coef    std err          t      P>|t|      [0.025      0.975]\n",
       "------------------------------------------------------------------------------------\n",
       "cementcomp           0.1153      0.005     22.292      0.000       0.105       0.125\n",
       "slag                 0.0977      0.006     15.432      0.000       0.085       0.110\n",
       "flyash               0.0830      0.010      8.699      0.000       0.064       0.102\n",
       "water               -0.1981      0.020     -9.981      0.000      -0.237      -0.159\n",
       "superplastisizer     0.1781      0.106      1.674      0.095      -0.031       0.387\n",
       "coraseaggr           0.0099      0.004      2.709      0.007       0.003       0.017\n",
       "finraggr             0.0152      0.004      3.551      0.000       0.007       0.024\n",
       "age                  0.1128      0.006     17.379      0.000       0.100       0.126\n",
       "==============================================================================\n",
       "Omnibus:                        3.802   Durbin-Watson:                   1.916\n",
       "Prob(Omnibus):                  0.149   Jarque-Bera (JB):                3.687\n",
       "Skew:                          -0.173   Prob(JB):                        0.158\n",
       "Kurtosis:                       3.054   Cond. No.                         354.\n",
       "==============================================================================\n",
       "\n",
       "Warnings:\n",
       "[1] Standard Errors assume that the covariance matrix of the errors is correctly specified.\n",
       "\"\"\""
      ]
     },
     "execution_count": 11,
     "metadata": {},
     "output_type": "execute_result"
    }
   ],
   "source": [
    "#Training summary\n",
    "result.summary()"
   ]
  },
  {
   "cell_type": "code",
   "execution_count": 12,
   "metadata": {
    "scrolled": false,
    "tags": []
   },
   "outputs": [
    {
     "name": "stdout",
     "output_type": "stream",
     "text": [
      "971     51.966546\n",
      "882     22.994529\n",
      "812     30.389717\n",
      "617     13.111659\n",
      "1025    40.162012\n",
      "          ...    \n",
      "662     27.435806\n",
      "403     46.241713\n",
      "698     35.269756\n",
      "186     22.937417\n",
      "256     29.704542\n",
      "Length: 309, dtype: float64\n"
     ]
    }
   ],
   "source": [
    "#Testing the dataset on our test data\n",
    "predict = result.predict(x_test)\n",
    "print(predict)"
   ]
  },
  {
   "cell_type": "code",
   "execution_count": 13,
   "metadata": {
    "tags": []
   },
   "outputs": [
    {
     "name": "stdout",
     "output_type": "stream",
     "text": [
      "[44.52, 36.44, 34.68, 9.31, 44.28, 44.42, 22.84, 33.73, 68.5, 15.62, 55.06, 39.15, 43.89, 41.37, 34.56, 35.36, 56.4, 37.23, 33.49, 59.3, 38.0, 15.34, 12.18, 37.27, 39.45, 37.96, 25.56, 7.75, 43.38, 68.3, 38.7, 54.77, 61.09, 43.7, 17.6, 29.07, 51.86, 32.88, 21.18, 82.6, 58.8, 61.46, 8.49, 38.89, 45.08, 17.82, 53.1, 23.64, 25.97, 30.14]\n",
      "[51.97 22.99 30.39 13.11 40.16 53.86 21.92 29.   53.91 22.73 47.85 33.61\n",
      " 40.7  52.16 30.04 51.04 63.37 32.51 48.6  44.02 48.94 24.5  22.34 37.19\n",
      " 35.75 33.43 30.82 36.65 37.09 55.57 33.89 56.78 53.55 68.19 22.32 33.74\n",
      " 42.26 28.7  25.17 69.55 66.53 53.79 22.48 62.69 38.83 37.89 38.36 48.23\n",
      " 19.86 31.34]\n"
     ]
    }
   ],
   "source": [
    "#Convert a column to list to compare predicted values with actual values\n",
    "a = y_test['CCS'].tolist()\n",
    "actual = a[:50]\n",
    "pred = np.round(np.array(list(predict.head(50))), 2)\n",
    "print(actual)\n",
    "print(pred)"
   ]
  },
  {
   "cell_type": "code",
   "execution_count": 14,
   "metadata": {},
   "outputs": [],
   "source": [
    "#Storing the lists into a dataframe to visualise\n",
    "df_results = pd.DataFrame({\"Actual\": actual, \"Predicted\": pred})"
   ]
  },
  {
   "cell_type": "code",
   "execution_count": 15,
   "metadata": {
    "tags": []
   },
   "outputs": [],
   "source": [
    "#Adding a difference column so as to compare the values\n",
    "df_results[\"Actual-Pred\"] = df_results[\"Actual\"] - df_results[\"Predicted\"]"
   ]
  },
  {
   "cell_type": "code",
   "execution_count": 16,
   "metadata": {
    "tags": []
   },
   "outputs": [
    {
     "name": "stdout",
     "output_type": "stream",
     "text": [
      "    Actual  Predicted  Actual-Pred\n",
      "0    44.52      51.97        -7.45\n",
      "1    36.44      22.99        13.45\n",
      "2    34.68      30.39         4.29\n",
      "3     9.31      13.11        -3.80\n",
      "4    44.28      40.16         4.12\n",
      "5    44.42      53.86        -9.44\n",
      "6    22.84      21.92         0.92\n",
      "7    33.73      29.00         4.73\n",
      "8    68.50      53.91        14.59\n",
      "9    15.62      22.73        -7.11\n",
      "10   55.06      47.85         7.21\n",
      "11   39.15      33.61         5.54\n",
      "12   43.89      40.70         3.19\n",
      "13   41.37      52.16       -10.79\n",
      "14   34.56      30.04         4.52\n",
      "15   35.36      51.04       -15.68\n",
      "16   56.40      63.37        -6.97\n",
      "17   37.23      32.51         4.72\n",
      "18   33.49      48.60       -15.11\n",
      "19   59.30      44.02        15.28\n",
      "20   38.00      48.94       -10.94\n",
      "21   15.34      24.50        -9.16\n",
      "22   12.18      22.34       -10.16\n",
      "23   37.27      37.19         0.08\n",
      "24   39.45      35.75         3.70\n",
      "25   37.96      33.43         4.53\n",
      "26   25.56      30.82        -5.26\n",
      "27    7.75      36.65       -28.90\n",
      "28   43.38      37.09         6.29\n",
      "29   68.30      55.57        12.73\n",
      "30   38.70      33.89         4.81\n",
      "31   54.77      56.78        -2.01\n",
      "32   61.09      53.55         7.54\n",
      "33   43.70      68.19       -24.49\n",
      "34   17.60      22.32        -4.72\n",
      "35   29.07      33.74        -4.67\n",
      "36   51.86      42.26         9.60\n",
      "37   32.88      28.70         4.18\n",
      "38   21.18      25.17        -3.99\n",
      "39   82.60      69.55        13.05\n",
      "40   58.80      66.53        -7.73\n",
      "41   61.46      53.79         7.67\n",
      "42    8.49      22.48       -13.99\n",
      "43   38.89      62.69       -23.80\n",
      "44   45.08      38.83         6.25\n",
      "45   17.82      37.89       -20.07\n",
      "46   53.10      38.36        14.74\n",
      "47   23.64      48.23       -24.59\n",
      "48   25.97      19.86         6.11\n",
      "49   30.14      31.34        -1.20\n"
     ]
    }
   ],
   "source": [
    "#Printing the dataset\n",
    "print(df_results)"
   ]
  },
  {
   "cell_type": "markdown",
   "metadata": {},
   "source": [
    "# Conclusion"
   ]
  },
  {
   "cell_type": "markdown",
   "metadata": {},
   "source": [
    "In this practical we learned to implement Linear Regression Algorithm. We used sklearn to split the dataset in training and testing dataset. We then split the training and testing dataset into X and Y to train the model, then added the constant to the model and then trained the model using statsmodel. After training, we tested the model on our testing set test_x and then we got the predictions and compared them with our expected values in y_test."
   ]
  }
 ],
 "metadata": {
  "kernelspec": {
   "display_name": "Python 3",
   "language": "python",
   "name": "python3"
  },
  "language_info": {
   "codemirror_mode": {
    "name": "ipython",
    "version": 3
   },
   "file_extension": ".py",
   "mimetype": "text/x-python",
   "name": "python",
   "nbconvert_exporter": "python",
   "pygments_lexer": "ipython3",
   "version": "3.7.7"
  }
 },
 "nbformat": 4,
 "nbformat_minor": 4
}
