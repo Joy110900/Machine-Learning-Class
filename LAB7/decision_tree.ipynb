{
 "metadata": {
  "language_info": {
   "codemirror_mode": {
    "name": "ipython",
    "version": 3
   },
   "file_extension": ".py",
   "mimetype": "text/x-python",
   "name": "python",
   "nbconvert_exporter": "python",
   "pygments_lexer": "ipython3",
   "version": "3.7.7-final"
  },
  "orig_nbformat": 2,
  "kernelspec": {
   "name": "python3",
   "display_name": "Python 3"
  }
 },
 "nbformat": 4,
 "nbformat_minor": 2,
 "cells": [
  {
   "cell_type": "code",
   "execution_count": 4,
   "metadata": {},
   "outputs": [],
   "source": [
    "import pandas as pd\n",
    "from sklearn.tree import DecisionTreeClassifier as dtc\n",
    "from sklearn.model_selection import train_test_split\n",
    "from sklearn.metrics import accuracy_score\n",
    "from sklearn.metrics import confusion_matrix"
   ]
  },
  {
   "cell_type": "code",
   "execution_count": 3,
   "metadata": {},
   "outputs": [
    {
     "output_type": "execute_result",
     "data": {
      "text/plain": "  sequence_name   mcg   gvh   lip  chg   aac  alm1  alm2 lsp\n0     AAT_ECOLI  0.49  0.29  0.48  0.5  0.56  0.24  0.35  cp\n1    ACEA_ECOLI  0.07  0.40  0.48  0.5  0.54  0.35  0.44  cp\n2    ACEK_ECOLI  0.56  0.40  0.48  0.5  0.49  0.37  0.46  cp\n3    ACKA_ECOLI  0.59  0.49  0.48  0.5  0.52  0.45  0.36  cp\n4     ADI_ECOLI  0.23  0.32  0.48  0.5  0.55  0.25  0.35  cp",
      "text/html": "<div>\n<style scoped>\n    .dataframe tbody tr th:only-of-type {\n        vertical-align: middle;\n    }\n\n    .dataframe tbody tr th {\n        vertical-align: top;\n    }\n\n    .dataframe thead th {\n        text-align: right;\n    }\n</style>\n<table border=\"1\" class=\"dataframe\">\n  <thead>\n    <tr style=\"text-align: right;\">\n      <th></th>\n      <th>sequence_name</th>\n      <th>mcg</th>\n      <th>gvh</th>\n      <th>lip</th>\n      <th>chg</th>\n      <th>aac</th>\n      <th>alm1</th>\n      <th>alm2</th>\n      <th>lsp</th>\n    </tr>\n  </thead>\n  <tbody>\n    <tr>\n      <th>0</th>\n      <td>AAT_ECOLI</td>\n      <td>0.49</td>\n      <td>0.29</td>\n      <td>0.48</td>\n      <td>0.5</td>\n      <td>0.56</td>\n      <td>0.24</td>\n      <td>0.35</td>\n      <td>cp</td>\n    </tr>\n    <tr>\n      <th>1</th>\n      <td>ACEA_ECOLI</td>\n      <td>0.07</td>\n      <td>0.40</td>\n      <td>0.48</td>\n      <td>0.5</td>\n      <td>0.54</td>\n      <td>0.35</td>\n      <td>0.44</td>\n      <td>cp</td>\n    </tr>\n    <tr>\n      <th>2</th>\n      <td>ACEK_ECOLI</td>\n      <td>0.56</td>\n      <td>0.40</td>\n      <td>0.48</td>\n      <td>0.5</td>\n      <td>0.49</td>\n      <td>0.37</td>\n      <td>0.46</td>\n      <td>cp</td>\n    </tr>\n    <tr>\n      <th>3</th>\n      <td>ACKA_ECOLI</td>\n      <td>0.59</td>\n      <td>0.49</td>\n      <td>0.48</td>\n      <td>0.5</td>\n      <td>0.52</td>\n      <td>0.45</td>\n      <td>0.36</td>\n      <td>cp</td>\n    </tr>\n    <tr>\n      <th>4</th>\n      <td>ADI_ECOLI</td>\n      <td>0.23</td>\n      <td>0.32</td>\n      <td>0.48</td>\n      <td>0.5</td>\n      <td>0.55</td>\n      <td>0.25</td>\n      <td>0.35</td>\n      <td>cp</td>\n    </tr>\n  </tbody>\n</table>\n</div>"
     },
     "metadata": {},
     "execution_count": 3
    }
   ],
   "source": [
    "#reading the dataset\n",
    "df = pd.read_csv(\"ecoli.csv\")\n",
    "df.head()"
   ]
  },
  {
   "cell_type": "code",
   "execution_count": 5,
   "metadata": {},
   "outputs": [
    {
     "output_type": "execute_result",
     "data": {
      "text/plain": "(336, 9)"
     },
     "metadata": {},
     "execution_count": 5
    }
   ],
   "source": [
    "#no. of rows x columns\n",
    "df.shape"
   ]
  },
  {
   "cell_type": "code",
   "execution_count": 7,
   "metadata": {},
   "outputs": [
    {
     "output_type": "execute_result",
     "data": {
      "text/plain": "    mcg   gvh   lip  chg   aac  alm1  alm2 lsp\n0  0.49  0.29  0.48  0.5  0.56  0.24  0.35  cp\n1  0.07  0.40  0.48  0.5  0.54  0.35  0.44  cp\n2  0.56  0.40  0.48  0.5  0.49  0.37  0.46  cp\n3  0.59  0.49  0.48  0.5  0.52  0.45  0.36  cp\n4  0.23  0.32  0.48  0.5  0.55  0.25  0.35  cp",
      "text/html": "<div>\n<style scoped>\n    .dataframe tbody tr th:only-of-type {\n        vertical-align: middle;\n    }\n\n    .dataframe tbody tr th {\n        vertical-align: top;\n    }\n\n    .dataframe thead th {\n        text-align: right;\n    }\n</style>\n<table border=\"1\" class=\"dataframe\">\n  <thead>\n    <tr style=\"text-align: right;\">\n      <th></th>\n      <th>mcg</th>\n      <th>gvh</th>\n      <th>lip</th>\n      <th>chg</th>\n      <th>aac</th>\n      <th>alm1</th>\n      <th>alm2</th>\n      <th>lsp</th>\n    </tr>\n  </thead>\n  <tbody>\n    <tr>\n      <th>0</th>\n      <td>0.49</td>\n      <td>0.29</td>\n      <td>0.48</td>\n      <td>0.5</td>\n      <td>0.56</td>\n      <td>0.24</td>\n      <td>0.35</td>\n      <td>cp</td>\n    </tr>\n    <tr>\n      <th>1</th>\n      <td>0.07</td>\n      <td>0.40</td>\n      <td>0.48</td>\n      <td>0.5</td>\n      <td>0.54</td>\n      <td>0.35</td>\n      <td>0.44</td>\n      <td>cp</td>\n    </tr>\n    <tr>\n      <th>2</th>\n      <td>0.56</td>\n      <td>0.40</td>\n      <td>0.48</td>\n      <td>0.5</td>\n      <td>0.49</td>\n      <td>0.37</td>\n      <td>0.46</td>\n      <td>cp</td>\n    </tr>\n    <tr>\n      <th>3</th>\n      <td>0.59</td>\n      <td>0.49</td>\n      <td>0.48</td>\n      <td>0.5</td>\n      <td>0.52</td>\n      <td>0.45</td>\n      <td>0.36</td>\n      <td>cp</td>\n    </tr>\n    <tr>\n      <th>4</th>\n      <td>0.23</td>\n      <td>0.32</td>\n      <td>0.48</td>\n      <td>0.5</td>\n      <td>0.55</td>\n      <td>0.25</td>\n      <td>0.35</td>\n      <td>cp</td>\n    </tr>\n  </tbody>\n</table>\n</div>"
     },
     "metadata": {},
     "execution_count": 7
    }
   ],
   "source": [
    "#first column is not needed so droping it from the dataframe\n",
    "df.drop([\"sequence_name\"], axis=1, inplace=True)\n",
    "df.head()"
   ]
  },
  {
   "cell_type": "code",
   "execution_count": 13,
   "metadata": {
    "tags": []
   },
   "outputs": [
    {
     "output_type": "stream",
     "name": "stdout",
     "text": "No. of classes = 8\n"
    },
    {
     "output_type": "execute_result",
     "data": {
      "text/plain": "array(['cp', 'im', 'imS', 'imL', 'imU', 'om', 'omL', 'pp'], dtype=object)"
     },
     "metadata": {},
     "execution_count": 13
    }
   ],
   "source": [
    "#no. of classes = unique values in y column that is lsp\n",
    "print(\"No. of classes =\", df.lsp.nunique())\n",
    "df.lsp.unique()"
   ]
  },
  {
   "cell_type": "code",
   "execution_count": 14,
   "metadata": {
    "tags": []
   },
   "outputs": [
    {
     "output_type": "stream",
     "name": "stdout",
     "text": "(235, 8)\n(101, 8)\n"
    }
   ],
   "source": [
    "#splitting dataset into train and test\n",
    "train, test = train_test_split(df, test_size=0.3)\n",
    "print(train.shape)\n",
    "print(test.shape)"
   ]
  },
  {
   "cell_type": "code",
   "execution_count": 15,
   "metadata": {},
   "outputs": [],
   "source": [
    "#splitting train and test into X and Y\n",
    "train_x = train.iloc[:, :-1]\n",
    "train_y = train.iloc[:, -1:]\n",
    "test_x = test.iloc[:, :-1]\n",
    "test_y = test.iloc[:, -1:]"
   ]
  },
  {
   "cell_type": "code",
   "execution_count": 19,
   "metadata": {
    "tags": []
   },
   "outputs": [
    {
     "output_type": "stream",
     "name": "stdout",
     "text": "(235, 7)\n(101, 7)\n(235, 1)\n(101, 1)\n"
    }
   ],
   "source": [
    "#final shapes of the datasets\n",
    "print(train_x.shape)\n",
    "print(test_x.shape)\n",
    "print(train_y.shape)\n",
    "print(test_y.shape)"
   ]
  },
  {
   "cell_type": "code",
   "execution_count": 20,
   "metadata": {},
   "outputs": [],
   "source": [
    "#model\n",
    "clf_entropy = dtc(criterion=\"entropy\")\n",
    "fit2 = clf_entropy.fit(train_x, train_y)"
   ]
  },
  {
   "cell_type": "code",
   "execution_count": 22,
   "metadata": {},
   "outputs": [],
   "source": [
    "#prediction\n",
    "pred_entropy = fit2.predict(test_x)"
   ]
  },
  {
   "cell_type": "code",
   "execution_count": 23,
   "metadata": {},
   "outputs": [
    {
     "output_type": "execute_result",
     "data": {
      "text/plain": "array(['pp', 'cp', 'pp', 'cp', 'pp', 'im', 'cp', 'im', 'cp', 'im', 'cp',\n       'cp', 'om', 'pp', 'pp', 'pp', 'im', 'im', 'im', 'cp', 'imU', 'im',\n       'im', 'cp', 'cp', 'cp', 'im', 'im', 'pp', 'om', 'cp', 'im', 'imU',\n       'imS', 'im', 'imU', 'pp', 'im', 'im', 'cp', 'om', 'cp', 'pp', 'cp',\n       'cp', 'imU', 'pp', 'im', 'cp', 'cp', 'omL', 'cp', 'cp', 'cp',\n       'imS', 'pp', 'pp', 'im', 'imS', 'pp', 'pp', 'cp', 'pp', 'im', 'im',\n       'cp', 'im', 'cp', 'im', 'cp', 'cp', 'cp', 'cp', 'cp', 'cp', 'im',\n       'im', 'cp', 'cp', 'pp', 'im', 'pp', 'pp', 'im', 'imS', 'cp', 'im',\n       'om', 'pp', 'pp', 'im', 'imS', 'pp', 'imU', 'om', 'pp', 'cp', 'cp',\n       'imU', 'cp', 'imU'], dtype=object)"
     },
     "metadata": {},
     "execution_count": 23
    }
   ],
   "source": [
    "pred_entropy"
   ]
  },
  {
   "cell_type": "code",
   "execution_count": 25,
   "metadata": {},
   "outputs": [
    {
     "output_type": "execute_result",
     "data": {
      "text/plain": "0.7227722772277227"
     },
     "metadata": {},
     "execution_count": 25
    }
   ],
   "source": [
    "#accuracy of the model, comparing the true value with the predicted values\n",
    "accuracy_score(test_y, pred_entropy)"
   ]
  },
  {
   "cell_type": "code",
   "execution_count": 26,
   "metadata": {},
   "outputs": [
    {
     "output_type": "execute_result",
     "data": {
      "text/plain": "array([[34,  2,  0,  1,  0,  0,  0,  3],\n       [ 0, 18,  0,  1,  4,  0,  0,  0],\n       [ 0,  1,  0,  0,  0,  0,  0,  1],\n       [ 0,  0,  0,  0,  0,  0,  0,  0],\n       [ 0,  5,  0,  1,  3,  0,  0,  0],\n       [ 0,  0,  0,  2,  0,  3,  0,  3],\n       [ 0,  0,  0,  0,  0,  0,  1,  1],\n       [ 1,  0,  0,  0,  0,  2,  0, 14]])"
     },
     "metadata": {},
     "execution_count": 26
    }
   ],
   "source": [
    "#confusion_matrix(y_true, y_pred)\n",
    "confusion_matrix(test_y, pred_entropy)"
   ]
  }
 ]
}